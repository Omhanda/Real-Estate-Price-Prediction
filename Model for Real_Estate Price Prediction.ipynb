{
 "cells": [
  {
   "cell_type": "code",
   "execution_count": 1,
   "id": "26d15eb7",
   "metadata": {},
   "outputs": [
    {
     "data": {
      "application/javascript": [
       "\n",
       "        if (window._pyforest_update_imports_cell) { window._pyforest_update_imports_cell('import pandas as pd'); }\n",
       "    "
      ],
      "text/plain": [
       "<IPython.core.display.Javascript object>"
      ]
     },
     "metadata": {},
     "output_type": "display_data"
    }
   ],
   "source": [
    "df = pd.read_csv(r'C:\\Users\\handa\\Desktop\\Datasets\\Real Estate INDIA\\Real_Estate.csv')"
   ]
  },
  {
   "cell_type": "code",
   "execution_count": 2,
   "id": "1477fe06",
   "metadata": {},
   "outputs": [],
   "source": [
    "dff = df.drop(['Name','Price in rupee','Gross Price',\n",
    "         'Location', 'Area',\n",
    "       'Description'],axis = 1)"
   ]
  },
  {
   "cell_type": "code",
   "execution_count": 3,
   "id": "22a9f205",
   "metadata": {},
   "outputs": [
    {
     "data": {
      "text/plain": [
       "Index(['Type', 'BHK', 'Price', 'State', 'Total_Area', 'Price_per_SQFT',\n",
       "       'Baths', 'Balcony'],\n",
       "      dtype='object')"
      ]
     },
     "execution_count": 3,
     "metadata": {},
     "output_type": "execute_result"
    }
   ],
   "source": [
    "dff['Price'] = dff['Price']/100000\n",
    "dff.columns"
   ]
  },
  {
   "cell_type": "code",
   "execution_count": 4,
   "id": "b94ceb3c",
   "metadata": {},
   "outputs": [
    {
     "name": "stderr",
     "output_type": "stream",
     "text": [
      "C:\\Users\\handa\\AppData\\Local\\Temp\\ipykernel_18456\\3710437665.py:1: FutureWarning: The default value of regex will change from True to False in a future version. In addition, single character regular expressions will *not* be treated as literal strings when regex=True.\n",
      "  dff['BHK'] = dff['BHK'].str.replace('+','')\n"
     ]
    },
    {
     "data": {
      "text/plain": [
       "array(['4 BHK', '10 BHK', '3 BHK', '7 BHK', '2 BHK', '1 BHK', '6 BHK',\n",
       "       '5 BHK', '1 RK', '8 BHK', '1.5 BHK', '2.5 BHK', '9 BHK', '3.5 BHK',\n",
       "       '0', '6 RK', '10.5 BHK', '4.5 BHK', '9.5 BHK', '8.5 BHK',\n",
       "       '7.5 BHK', '5 RK', '1 R', '2 RK', '3 RK', '4 RK', '2 BH', '3 R'],\n",
       "      dtype=object)"
      ]
     },
     "execution_count": 4,
     "metadata": {},
     "output_type": "execute_result"
    }
   ],
   "source": [
    "dff['BHK'] = dff['BHK'].str.replace('+','')\n",
    "dff['BHK'].unique()"
   ]
  },
  {
   "cell_type": "code",
   "execution_count": 5,
   "id": "59a5b6af",
   "metadata": {},
   "outputs": [],
   "source": [
    "bhk = []\n",
    "bh = []\n",
    "rk = []\n",
    "r = []\n",
    "for i in dff['BHK']:\n",
    "    if len(i.split(' ')) > 1:\n",
    "        if i.split(' ')[1] == 'BHK':    # if i[1] == BHK\n",
    "            bhk.append(float(i.split(' ')[0]))\n",
    "            bh.append(0)\n",
    "            rk.append(0)\n",
    "            r.append(0)\n",
    "        if i.split(' ')[1] == 'BH':     # if i[1] == BH\n",
    "            bhk.append(0)\n",
    "            bh.append(float(i.split(' ')[0]))\n",
    "            rk.append(0)\n",
    "            r.append(0)\n",
    "        if i.split(' ')[1] == 'RK':     # if i[1] == RK\n",
    "            bhk.append(0)\n",
    "            bh.append(0)\n",
    "            rk.append(float(i.split(' ')[0]))\n",
    "            r.append(0)\n",
    "        if i.split(' ')[1] == 'R':     # if i[1] == R\n",
    "            bhk.append(0)\n",
    "            bh.append(0)\n",
    "            rk.append(0)\n",
    "            r.append(float(i.split(' ')[0]))\n",
    "    else:\n",
    "        bhk.append(0)\n",
    "        bh.append(0)\n",
    "        rk.append(0)\n",
    "        r.append(0)"
   ]
  },
  {
   "cell_type": "code",
   "execution_count": 6,
   "id": "74c5ce0a",
   "metadata": {},
   "outputs": [
    {
     "data": {
      "application/javascript": [
       "\n",
       "        if (window._pyforest_update_imports_cell) { window._pyforest_update_imports_cell('import pandas as pd'); }\n",
       "    "
      ],
      "text/plain": [
       "<IPython.core.display.Javascript object>"
      ]
     },
     "metadata": {},
     "output_type": "display_data"
    },
    {
     "data": {
      "application/javascript": [
       "\n",
       "        if (window._pyforest_update_imports_cell) { window._pyforest_update_imports_cell('import pandas as pd'); }\n",
       "    "
      ],
      "text/plain": [
       "<IPython.core.display.Javascript object>"
      ]
     },
     "metadata": {},
     "output_type": "display_data"
    },
    {
     "data": {
      "application/javascript": [
       "\n",
       "        if (window._pyforest_update_imports_cell) { window._pyforest_update_imports_cell('import pandas as pd'); }\n",
       "    "
      ],
      "text/plain": [
       "<IPython.core.display.Javascript object>"
      ]
     },
     "metadata": {},
     "output_type": "display_data"
    },
    {
     "data": {
      "application/javascript": [
       "\n",
       "        if (window._pyforest_update_imports_cell) { window._pyforest_update_imports_cell('import pandas as pd'); }\n",
       "    "
      ],
      "text/plain": [
       "<IPython.core.display.Javascript object>"
      ]
     },
     "metadata": {},
     "output_type": "display_data"
    },
    {
     "data": {
      "application/javascript": [
       "\n",
       "        if (window._pyforest_update_imports_cell) { window._pyforest_update_imports_cell('import pandas as pd'); }\n",
       "    "
      ],
      "text/plain": [
       "<IPython.core.display.Javascript object>"
      ]
     },
     "metadata": {},
     "output_type": "display_data"
    }
   ],
   "source": [
    "BHK = pd.Series(bhk) \n",
    "BH = pd.Series(bh)\n",
    "RK = pd.Series(rk)\n",
    "R = pd.Series(r)\n",
    "d = pd.concat([BHK,BH,RK,R],axis = 1)\n",
    "d.rename(columns = ({0:'BHK',1:'BH',2:'RK',3:'R'}), inplace = True)"
   ]
  },
  {
   "cell_type": "code",
   "execution_count": 7,
   "id": "e149b4d0",
   "metadata": {},
   "outputs": [
    {
     "data": {
      "application/javascript": [
       "\n",
       "        if (window._pyforest_update_imports_cell) { window._pyforest_update_imports_cell('import pandas as pd'); }\n",
       "    "
      ],
      "text/plain": [
       "<IPython.core.display.Javascript object>"
      ]
     },
     "metadata": {},
     "output_type": "display_data"
    },
    {
     "data": {
      "text/html": [
       "<div>\n",
       "<style scoped>\n",
       "    .dataframe tbody tr th:only-of-type {\n",
       "        vertical-align: middle;\n",
       "    }\n",
       "\n",
       "    .dataframe tbody tr th {\n",
       "        vertical-align: top;\n",
       "    }\n",
       "\n",
       "    .dataframe thead th {\n",
       "        text-align: right;\n",
       "    }\n",
       "</style>\n",
       "<table border=\"1\" class=\"dataframe\">\n",
       "  <thead>\n",
       "    <tr style=\"text-align: right;\">\n",
       "      <th></th>\n",
       "      <th>Type</th>\n",
       "      <th>Price</th>\n",
       "      <th>State</th>\n",
       "      <th>Total_Area</th>\n",
       "      <th>Price_per_SQFT</th>\n",
       "      <th>Baths</th>\n",
       "      <th>Balcony</th>\n",
       "      <th>BHK</th>\n",
       "      <th>BH</th>\n",
       "      <th>RK</th>\n",
       "      <th>R</th>\n",
       "    </tr>\n",
       "  </thead>\n",
       "  <tbody>\n",
       "    <tr>\n",
       "      <th>0</th>\n",
       "      <td>Flat</td>\n",
       "      <td>199.0</td>\n",
       "      <td>Chennai</td>\n",
       "      <td>2583</td>\n",
       "      <td>7704.22</td>\n",
       "      <td>4</td>\n",
       "      <td>1</td>\n",
       "      <td>4.0</td>\n",
       "      <td>0.0</td>\n",
       "      <td>0.0</td>\n",
       "      <td>0.0</td>\n",
       "    </tr>\n",
       "    <tr>\n",
       "      <th>1</th>\n",
       "      <td>Independent House</td>\n",
       "      <td>225.0</td>\n",
       "      <td>Chennai</td>\n",
       "      <td>7000</td>\n",
       "      <td>3214.29</td>\n",
       "      <td>6</td>\n",
       "      <td>1</td>\n",
       "      <td>10.0</td>\n",
       "      <td>0.0</td>\n",
       "      <td>0.0</td>\n",
       "      <td>0.0</td>\n",
       "    </tr>\n",
       "    <tr>\n",
       "      <th>2</th>\n",
       "      <td>Flat</td>\n",
       "      <td>100.0</td>\n",
       "      <td>Chennai</td>\n",
       "      <td>1320</td>\n",
       "      <td>7575.76</td>\n",
       "      <td>3</td>\n",
       "      <td>0</td>\n",
       "      <td>3.0</td>\n",
       "      <td>0.0</td>\n",
       "      <td>0.0</td>\n",
       "      <td>0.0</td>\n",
       "    </tr>\n",
       "    <tr>\n",
       "      <th>3</th>\n",
       "      <td>Independent House</td>\n",
       "      <td>333.0</td>\n",
       "      <td>Chennai</td>\n",
       "      <td>4250</td>\n",
       "      <td>7835.29</td>\n",
       "      <td>5</td>\n",
       "      <td>1</td>\n",
       "      <td>7.0</td>\n",
       "      <td>0.0</td>\n",
       "      <td>0.0</td>\n",
       "      <td>0.0</td>\n",
       "    </tr>\n",
       "    <tr>\n",
       "      <th>4</th>\n",
       "      <td>Flat</td>\n",
       "      <td>48.0</td>\n",
       "      <td>Chennai</td>\n",
       "      <td>960</td>\n",
       "      <td>5000.00</td>\n",
       "      <td>3</td>\n",
       "      <td>1</td>\n",
       "      <td>2.0</td>\n",
       "      <td>0.0</td>\n",
       "      <td>0.0</td>\n",
       "      <td>0.0</td>\n",
       "    </tr>\n",
       "    <tr>\n",
       "      <th>...</th>\n",
       "      <td>...</td>\n",
       "      <td>...</td>\n",
       "      <td>...</td>\n",
       "      <td>...</td>\n",
       "      <td>...</td>\n",
       "      <td>...</td>\n",
       "      <td>...</td>\n",
       "      <td>...</td>\n",
       "      <td>...</td>\n",
       "      <td>...</td>\n",
       "      <td>...</td>\n",
       "    </tr>\n",
       "    <tr>\n",
       "      <th>14523</th>\n",
       "      <td>Flat</td>\n",
       "      <td>40.0</td>\n",
       "      <td>New Delhi</td>\n",
       "      <td>1053</td>\n",
       "      <td>3798.67</td>\n",
       "      <td>3</td>\n",
       "      <td>1</td>\n",
       "      <td>2.0</td>\n",
       "      <td>0.0</td>\n",
       "      <td>0.0</td>\n",
       "      <td>0.0</td>\n",
       "    </tr>\n",
       "    <tr>\n",
       "      <th>14524</th>\n",
       "      <td>Independent House</td>\n",
       "      <td>14.0</td>\n",
       "      <td>New Delhi</td>\n",
       "      <td>472</td>\n",
       "      <td>2966.10</td>\n",
       "      <td>2</td>\n",
       "      <td>1</td>\n",
       "      <td>1.0</td>\n",
       "      <td>0.0</td>\n",
       "      <td>0.0</td>\n",
       "      <td>0.0</td>\n",
       "    </tr>\n",
       "    <tr>\n",
       "      <th>14525</th>\n",
       "      <td>Flat</td>\n",
       "      <td>30.0</td>\n",
       "      <td>New Delhi</td>\n",
       "      <td>378</td>\n",
       "      <td>7936.51</td>\n",
       "      <td>1</td>\n",
       "      <td>1</td>\n",
       "      <td>1.0</td>\n",
       "      <td>0.0</td>\n",
       "      <td>0.0</td>\n",
       "      <td>0.0</td>\n",
       "    </tr>\n",
       "    <tr>\n",
       "      <th>14526</th>\n",
       "      <td>Flat</td>\n",
       "      <td>60.0</td>\n",
       "      <td>New Delhi</td>\n",
       "      <td>700</td>\n",
       "      <td>8571.43</td>\n",
       "      <td>2</td>\n",
       "      <td>1</td>\n",
       "      <td>3.0</td>\n",
       "      <td>0.0</td>\n",
       "      <td>0.0</td>\n",
       "      <td>0.0</td>\n",
       "    </tr>\n",
       "    <tr>\n",
       "      <th>14527</th>\n",
       "      <td>Independent House</td>\n",
       "      <td>55.0</td>\n",
       "      <td>New Delhi</td>\n",
       "      <td>344</td>\n",
       "      <td>15988.37</td>\n",
       "      <td>1</td>\n",
       "      <td>1</td>\n",
       "      <td>0.0</td>\n",
       "      <td>0.0</td>\n",
       "      <td>1.0</td>\n",
       "      <td>0.0</td>\n",
       "    </tr>\n",
       "  </tbody>\n",
       "</table>\n",
       "<p>14528 rows × 11 columns</p>\n",
       "</div>"
      ],
      "text/plain": [
       "                    Type  Price      State  Total_Area  Price_per_SQFT  Baths  \\\n",
       "0                  Flat   199.0    Chennai        2583         7704.22      4   \n",
       "1      Independent House  225.0    Chennai        7000         3214.29      6   \n",
       "2                  Flat   100.0    Chennai        1320         7575.76      3   \n",
       "3      Independent House  333.0    Chennai        4250         7835.29      5   \n",
       "4                  Flat    48.0    Chennai         960         5000.00      3   \n",
       "...                  ...    ...        ...         ...             ...    ...   \n",
       "14523              Flat    40.0  New Delhi        1053         3798.67      3   \n",
       "14524  Independent House   14.0  New Delhi         472         2966.10      2   \n",
       "14525              Flat    30.0  New Delhi         378         7936.51      1   \n",
       "14526              Flat    60.0  New Delhi         700         8571.43      2   \n",
       "14527  Independent House   55.0  New Delhi         344        15988.37      1   \n",
       "\n",
       "       Balcony   BHK   BH   RK    R  \n",
       "0            1   4.0  0.0  0.0  0.0  \n",
       "1            1  10.0  0.0  0.0  0.0  \n",
       "2            0   3.0  0.0  0.0  0.0  \n",
       "3            1   7.0  0.0  0.0  0.0  \n",
       "4            1   2.0  0.0  0.0  0.0  \n",
       "...        ...   ...  ...  ...  ...  \n",
       "14523        1   2.0  0.0  0.0  0.0  \n",
       "14524        1   1.0  0.0  0.0  0.0  \n",
       "14525        1   1.0  0.0  0.0  0.0  \n",
       "14526        1   3.0  0.0  0.0  0.0  \n",
       "14527        1   0.0  0.0  1.0  0.0  \n",
       "\n",
       "[14528 rows x 11 columns]"
      ]
     },
     "execution_count": 7,
     "metadata": {},
     "output_type": "execute_result"
    }
   ],
   "source": [
    "df1 = pd.concat([dff.drop('BHK',axis = 1),d],axis = 1)\n",
    "df1"
   ]
  },
  {
   "cell_type": "markdown",
   "id": "dee9d0f4",
   "metadata": {},
   "source": [
    "# Outliers"
   ]
  },
  {
   "cell_type": "code",
   "execution_count": 8,
   "id": "90da7aff",
   "metadata": {},
   "outputs": [],
   "source": [
    "def out_check(data , lst):\n",
    "    t = data[lst]\n",
    "    # IQR = Q3 – Q1\n",
    "    iqr = t.quantile(0.75) - t.quantile(0.25)\n",
    "\n",
    "    # upper fence = Q3 + (1.5 * IQR)\n",
    "    uf = t.quantile(0.75) + 1.5 * iqr\n",
    "\n",
    "    # lower fence = Q1 – (1.5 * IQR)\n",
    "    lf = t.quantile(0.25) - 1.5 * iqr\n",
    "    lf , uf\n",
    "    # Use your fences to highlight any outliers, all values that fall outside your fences. \n",
    "    return t[(t<lf) | (t>uf)].count()/len(t)*100"
   ]
  },
  {
   "cell_type": "code",
   "execution_count": 9,
   "id": "1854429a",
   "metadata": {},
   "outputs": [],
   "source": [
    "def box_plot(data,lst):\n",
    "    plt.figure(figsize =(25,15))\n",
    "    for i in range(len(lst)):\n",
    "        plt.subplot(4,3,i+1)\n",
    "        sns.boxplot(x = data[lst[i]])\n",
    "    #     plt.hist(data[lst[i]], rwidth = 0.7)"
   ]
  },
  {
   "cell_type": "code",
   "execution_count": 10,
   "id": "837e862d",
   "metadata": {},
   "outputs": [
    {
     "data": {
      "text/plain": [
       "Price              8.893172\n",
       "Total_Area         7.998348\n",
       "Price_per_SQFT     9.381883\n",
       "Baths              4.281388\n",
       "Balcony            0.000000\n",
       "BHK               14.062500\n",
       "BH                 0.027533\n",
       "RK                 4.859581\n",
       "R                  0.034416\n",
       "dtype: float64"
      ]
     },
     "execution_count": 10,
     "metadata": {},
     "output_type": "execute_result"
    }
   ],
   "source": [
    "l = ['Price', 'Total_Area', 'Price_per_SQFT', 'Baths',\n",
    "       'Balcony', 'BHK', 'BH', 'RK', 'R']\n",
    "out_check(df1 , l)"
   ]
  },
  {
   "cell_type": "code",
   "execution_count": 11,
   "id": "8674eb46",
   "metadata": {},
   "outputs": [
    {
     "data": {
      "application/javascript": [
       "\n",
       "        if (window._pyforest_update_imports_cell) { window._pyforest_update_imports_cell('import pandas as pd\\nimport matplotlib.pyplot as plt'); }\n",
       "    "
      ],
      "text/plain": [
       "<IPython.core.display.Javascript object>"
      ]
     },
     "metadata": {},
     "output_type": "display_data"
    },
    {
     "data": {
      "application/javascript": [
       "\n",
       "        if (window._pyforest_update_imports_cell) { window._pyforest_update_imports_cell('import pandas as pd\\nimport matplotlib.pyplot as plt'); }\n",
       "    "
      ],
      "text/plain": [
       "<IPython.core.display.Javascript object>"
      ]
     },
     "metadata": {},
     "output_type": "display_data"
    },
    {
     "data": {
      "application/javascript": [
       "\n",
       "        if (window._pyforest_update_imports_cell) { window._pyforest_update_imports_cell('import pandas as pd\\nimport seaborn as sns\\nimport matplotlib.pyplot as plt'); }\n",
       "    "
      ],
      "text/plain": [
       "<IPython.core.display.Javascript object>"
      ]
     },
     "metadata": {},
     "output_type": "display_data"
    },
    {
     "data": {
      "application/javascript": [
       "\n",
       "        if (window._pyforest_update_imports_cell) { window._pyforest_update_imports_cell('import pandas as pd\\nimport seaborn as sns\\nimport matplotlib.pyplot as plt'); }\n",
       "    "
      ],
      "text/plain": [
       "<IPython.core.display.Javascript object>"
      ]
     },
     "metadata": {},
     "output_type": "display_data"
    },
    {
     "data": {
      "application/javascript": [
       "\n",
       "        if (window._pyforest_update_imports_cell) { window._pyforest_update_imports_cell('import pandas as pd\\nimport seaborn as sns\\nimport matplotlib.pyplot as plt'); }\n",
       "    "
      ],
      "text/plain": [
       "<IPython.core.display.Javascript object>"
      ]
     },
     "metadata": {},
     "output_type": "display_data"
    },
    {
     "data": {
      "application/javascript": [
       "\n",
       "        if (window._pyforest_update_imports_cell) { window._pyforest_update_imports_cell('import pandas as pd\\nimport seaborn as sns\\nimport matplotlib.pyplot as plt'); }\n",
       "    "
      ],
      "text/plain": [
       "<IPython.core.display.Javascript object>"
      ]
     },
     "metadata": {},
     "output_type": "display_data"
    },
    {
     "data": {
      "application/javascript": [
       "\n",
       "        if (window._pyforest_update_imports_cell) { window._pyforest_update_imports_cell('import pandas as pd\\nimport seaborn as sns\\nimport matplotlib.pyplot as plt'); }\n",
       "    "
      ],
      "text/plain": [
       "<IPython.core.display.Javascript object>"
      ]
     },
     "metadata": {},
     "output_type": "display_data"
    },
    {
     "data": {
      "application/javascript": [
       "\n",
       "        if (window._pyforest_update_imports_cell) { window._pyforest_update_imports_cell('import pandas as pd\\nimport seaborn as sns\\nimport matplotlib.pyplot as plt'); }\n",
       "    "
      ],
      "text/plain": [
       "<IPython.core.display.Javascript object>"
      ]
     },
     "metadata": {},
     "output_type": "display_data"
    },
    {
     "data": {
      "application/javascript": [
       "\n",
       "        if (window._pyforest_update_imports_cell) { window._pyforest_update_imports_cell('import pandas as pd\\nimport seaborn as sns\\nimport matplotlib.pyplot as plt'); }\n",
       "    "
      ],
      "text/plain": [
       "<IPython.core.display.Javascript object>"
      ]
     },
     "metadata": {},
     "output_type": "display_data"
    },
    {
     "data": {
      "application/javascript": [
       "\n",
       "        if (window._pyforest_update_imports_cell) { window._pyforest_update_imports_cell('import pandas as pd\\nimport seaborn as sns\\nimport matplotlib.pyplot as plt'); }\n",
       "    "
      ],
      "text/plain": [
       "<IPython.core.display.Javascript object>"
      ]
     },
     "metadata": {},
     "output_type": "display_data"
    },
    {
     "data": {
      "application/javascript": [
       "\n",
       "        if (window._pyforest_update_imports_cell) { window._pyforest_update_imports_cell('import pandas as pd\\nimport seaborn as sns\\nimport matplotlib.pyplot as plt'); }\n",
       "    "
      ],
      "text/plain": [
       "<IPython.core.display.Javascript object>"
      ]
     },
     "metadata": {},
     "output_type": "display_data"
    },
    {
     "data": {
      "application/javascript": [
       "\n",
       "        if (window._pyforest_update_imports_cell) { window._pyforest_update_imports_cell('import pandas as pd\\nimport seaborn as sns\\nimport matplotlib.pyplot as plt'); }\n",
       "    "
      ],
      "text/plain": [
       "<IPython.core.display.Javascript object>"
      ]
     },
     "metadata": {},
     "output_type": "display_data"
    },
    {
     "data": {
      "application/javascript": [
       "\n",
       "        if (window._pyforest_update_imports_cell) { window._pyforest_update_imports_cell('import pandas as pd\\nimport seaborn as sns\\nimport matplotlib.pyplot as plt'); }\n",
       "    "
      ],
      "text/plain": [
       "<IPython.core.display.Javascript object>"
      ]
     },
     "metadata": {},
     "output_type": "display_data"
    },
    {
     "data": {
      "application/javascript": [
       "\n",
       "        if (window._pyforest_update_imports_cell) { window._pyforest_update_imports_cell('import pandas as pd\\nimport seaborn as sns\\nimport matplotlib.pyplot as plt'); }\n",
       "    "
      ],
      "text/plain": [
       "<IPython.core.display.Javascript object>"
      ]
     },
     "metadata": {},
     "output_type": "display_data"
    },
    {
     "data": {
      "application/javascript": [
       "\n",
       "        if (window._pyforest_update_imports_cell) { window._pyforest_update_imports_cell('import pandas as pd\\nimport seaborn as sns\\nimport matplotlib.pyplot as plt'); }\n",
       "    "
      ],
      "text/plain": [
       "<IPython.core.display.Javascript object>"
      ]
     },
     "metadata": {},
     "output_type": "display_data"
    },
    {
     "data": {
      "application/javascript": [
       "\n",
       "        if (window._pyforest_update_imports_cell) { window._pyforest_update_imports_cell('import pandas as pd\\nimport seaborn as sns\\nimport matplotlib.pyplot as plt'); }\n",
       "    "
      ],
      "text/plain": [
       "<IPython.core.display.Javascript object>"
      ]
     },
     "metadata": {},
     "output_type": "display_data"
    },
    {
     "data": {
      "application/javascript": [
       "\n",
       "        if (window._pyforest_update_imports_cell) { window._pyforest_update_imports_cell('import pandas as pd\\nimport seaborn as sns\\nimport matplotlib.pyplot as plt'); }\n",
       "    "
      ],
      "text/plain": [
       "<IPython.core.display.Javascript object>"
      ]
     },
     "metadata": {},
     "output_type": "display_data"
    },
    {
     "data": {
      "application/javascript": [
       "\n",
       "        if (window._pyforest_update_imports_cell) { window._pyforest_update_imports_cell('import pandas as pd\\nimport seaborn as sns\\nimport matplotlib.pyplot as plt'); }\n",
       "    "
      ],
      "text/plain": [
       "<IPython.core.display.Javascript object>"
      ]
     },
     "metadata": {},
     "output_type": "display_data"
    },
    {
     "data": {
      "application/javascript": [
       "\n",
       "        if (window._pyforest_update_imports_cell) { window._pyforest_update_imports_cell('import pandas as pd\\nimport seaborn as sns\\nimport matplotlib.pyplot as plt'); }\n",
       "    "
      ],
      "text/plain": [
       "<IPython.core.display.Javascript object>"
      ]
     },
     "metadata": {},
     "output_type": "display_data"
    },
    {
     "data": {
      "image/png": "[encoded data removed]",
      "text/plain": [
       "<Figure size 2500x1500 with 9 Axes>"
      ]
     },
     "metadata": {},
     "output_type": "display_data"
    }
   ],
   "source": [
    "l = ['Price', 'Total_Area', 'Price_per_SQFT', 'Baths',\n",
    "       'Balcony', 'BHK', 'BH', 'RK', 'R']\n",
    "box_plot(df1,l)"
   ]
  },
  {
   "cell_type": "markdown",
   "id": "5122040b",
   "metadata": {},
   "source": [
    "# ***Building a function which will perform silillar above task for removal of outliers***"
   ]
  },
  {
   "cell_type": "code",
   "execution_count": 12,
   "id": "d7fdd48b",
   "metadata": {},
   "outputs": [],
   "source": [
    "def out_rem(data,list_of_outlires_col):\n",
    "    for column in list_of_outlires_col:\n",
    "        q1 = data[column].quantile(0.25)\n",
    "        q3 = data[column].quantile(0.75)\n",
    "        iqr = q3 - q1\n",
    "        uf = q3 + (1.5 * iqr)\n",
    "        lf = q1 - (1.5 * iqr)\n",
    "        \n",
    "        # Getting IQR data\n",
    "        print(\"Q1 =\", q1,\"| Q3 =\",q3,\"| IQR = \",iqr)\n",
    "        print(\"Upper fence =\",uf)\n",
    "        print(\"Lower fence =\",lf)\n",
    "        \n",
    "        # Limiting Data within IQR\n",
    "        df_new = data[(data[column]<uf) & (data[column]>lf)]\n",
    "        print(\"Nos of Records Deleted =\",data.shape[0]-df_new.shape[0])\n",
    "        print(\"% of Records Deleted =\",round((data.shape[0]-df_new.shape[0])/data.shape[0]*100,2),'\\n')\n",
    "        data = df_new\n",
    "        \n",
    "    return data"
   ]
  },
  {
   "cell_type": "code",
   "execution_count": 13,
   "id": "0e00300c",
   "metadata": {},
   "outputs": [
    {
     "name": "stdout",
     "output_type": "stream",
     "text": [
      "Q1 = 4444.44 | Q3 = 9174.31 | IQR =  4729.87\n",
      "Upper fence = 16269.115\n",
      "Lower fence = -2650.3650000000007\n",
      "Nos of Records Deleted = 1363\n",
      "% of Records Deleted = 9.38 \n",
      "\n",
      "Q1 = 35.0 | Q3 = 95.0 | IQR =  60.0\n",
      "Upper fence = 185.0\n",
      "Lower fence = -55.0\n",
      "Nos of Records Deleted = 1074\n",
      "% of Records Deleted = 8.16 \n",
      "\n",
      "Q1 = 650.0 | Q3 = 1267.0 | IQR =  617.0\n",
      "Upper fence = 2192.5\n",
      "Lower fence = -275.5\n",
      "Nos of Records Deleted = 820\n",
      "% of Records Deleted = 6.78 \n",
      "\n",
      "Q1 = 1.0 | Q3 = 3.0 | IQR =  2.0\n",
      "Upper fence = 6.0\n",
      "Lower fence = -2.0\n",
      "Nos of Records Deleted = 188\n",
      "% of Records Deleted = 1.67 \n",
      "\n"
     ]
    },
    {
     "data": {
      "text/html": [
       "<div>\n",
       "<style scoped>\n",
       "    .dataframe tbody tr th:only-of-type {\n",
       "        vertical-align: middle;\n",
       "    }\n",
       "\n",
       "    .dataframe tbody tr th {\n",
       "        vertical-align: top;\n",
       "    }\n",
       "\n",
       "    .dataframe thead th {\n",
       "        text-align: right;\n",
       "    }\n",
       "</style>\n",
       "<table border=\"1\" class=\"dataframe\">\n",
       "  <thead>\n",
       "    <tr style=\"text-align: right;\">\n",
       "      <th></th>\n",
       "      <th>Type</th>\n",
       "      <th>Price</th>\n",
       "      <th>State</th>\n",
       "      <th>Total_Area</th>\n",
       "      <th>Price_per_SQFT</th>\n",
       "      <th>Baths</th>\n",
       "      <th>Balcony</th>\n",
       "      <th>BHK</th>\n",
       "      <th>BH</th>\n",
       "      <th>RK</th>\n",
       "      <th>R</th>\n",
       "    </tr>\n",
       "  </thead>\n",
       "  <tbody>\n",
       "    <tr>\n",
       "      <th>2</th>\n",
       "      <td>Flat</td>\n",
       "      <td>100.00</td>\n",
       "      <td>Chennai</td>\n",
       "      <td>1320</td>\n",
       "      <td>7575.76</td>\n",
       "      <td>3</td>\n",
       "      <td>0</td>\n",
       "      <td>3.0</td>\n",
       "      <td>0.0</td>\n",
       "      <td>0.0</td>\n",
       "      <td>0.0</td>\n",
       "    </tr>\n",
       "    <tr>\n",
       "      <th>4</th>\n",
       "      <td>Flat</td>\n",
       "      <td>48.00</td>\n",
       "      <td>Chennai</td>\n",
       "      <td>960</td>\n",
       "      <td>5000.00</td>\n",
       "      <td>3</td>\n",
       "      <td>1</td>\n",
       "      <td>2.0</td>\n",
       "      <td>0.0</td>\n",
       "      <td>0.0</td>\n",
       "      <td>0.0</td>\n",
       "    </tr>\n",
       "    <tr>\n",
       "      <th>5</th>\n",
       "      <td>Flat</td>\n",
       "      <td>40.00</td>\n",
       "      <td>Chennai</td>\n",
       "      <td>940</td>\n",
       "      <td>4255.32</td>\n",
       "      <td>3</td>\n",
       "      <td>0</td>\n",
       "      <td>2.0</td>\n",
       "      <td>0.0</td>\n",
       "      <td>0.0</td>\n",
       "      <td>0.0</td>\n",
       "    </tr>\n",
       "    <tr>\n",
       "      <th>6</th>\n",
       "      <td>Flat</td>\n",
       "      <td>60.00</td>\n",
       "      <td>Chennai</td>\n",
       "      <td>880</td>\n",
       "      <td>6818.18</td>\n",
       "      <td>3</td>\n",
       "      <td>1</td>\n",
       "      <td>2.0</td>\n",
       "      <td>0.0</td>\n",
       "      <td>0.0</td>\n",
       "      <td>0.0</td>\n",
       "    </tr>\n",
       "    <tr>\n",
       "      <th>7</th>\n",
       "      <td>Independent House</td>\n",
       "      <td>72.35</td>\n",
       "      <td>Chennai</td>\n",
       "      <td>1700</td>\n",
       "      <td>4255.88</td>\n",
       "      <td>3</td>\n",
       "      <td>1</td>\n",
       "      <td>3.0</td>\n",
       "      <td>0.0</td>\n",
       "      <td>0.0</td>\n",
       "      <td>0.0</td>\n",
       "    </tr>\n",
       "    <tr>\n",
       "      <th>...</th>\n",
       "      <td>...</td>\n",
       "      <td>...</td>\n",
       "      <td>...</td>\n",
       "      <td>...</td>\n",
       "      <td>...</td>\n",
       "      <td>...</td>\n",
       "      <td>...</td>\n",
       "      <td>...</td>\n",
       "      <td>...</td>\n",
       "      <td>...</td>\n",
       "      <td>...</td>\n",
       "    </tr>\n",
       "    <tr>\n",
       "      <th>14523</th>\n",
       "      <td>Flat</td>\n",
       "      <td>40.00</td>\n",
       "      <td>New Delhi</td>\n",
       "      <td>1053</td>\n",
       "      <td>3798.67</td>\n",
       "      <td>3</td>\n",
       "      <td>1</td>\n",
       "      <td>2.0</td>\n",
       "      <td>0.0</td>\n",
       "      <td>0.0</td>\n",
       "      <td>0.0</td>\n",
       "    </tr>\n",
       "    <tr>\n",
       "      <th>14524</th>\n",
       "      <td>Independent House</td>\n",
       "      <td>14.00</td>\n",
       "      <td>New Delhi</td>\n",
       "      <td>472</td>\n",
       "      <td>2966.10</td>\n",
       "      <td>2</td>\n",
       "      <td>1</td>\n",
       "      <td>1.0</td>\n",
       "      <td>0.0</td>\n",
       "      <td>0.0</td>\n",
       "      <td>0.0</td>\n",
       "    </tr>\n",
       "    <tr>\n",
       "      <th>14525</th>\n",
       "      <td>Flat</td>\n",
       "      <td>30.00</td>\n",
       "      <td>New Delhi</td>\n",
       "      <td>378</td>\n",
       "      <td>7936.51</td>\n",
       "      <td>1</td>\n",
       "      <td>1</td>\n",
       "      <td>1.0</td>\n",
       "      <td>0.0</td>\n",
       "      <td>0.0</td>\n",
       "      <td>0.0</td>\n",
       "    </tr>\n",
       "    <tr>\n",
       "      <th>14526</th>\n",
       "      <td>Flat</td>\n",
       "      <td>60.00</td>\n",
       "      <td>New Delhi</td>\n",
       "      <td>700</td>\n",
       "      <td>8571.43</td>\n",
       "      <td>2</td>\n",
       "      <td>1</td>\n",
       "      <td>3.0</td>\n",
       "      <td>0.0</td>\n",
       "      <td>0.0</td>\n",
       "      <td>0.0</td>\n",
       "    </tr>\n",
       "    <tr>\n",
       "      <th>14527</th>\n",
       "      <td>Independent House</td>\n",
       "      <td>55.00</td>\n",
       "      <td>New Delhi</td>\n",
       "      <td>344</td>\n",
       "      <td>15988.37</td>\n",
       "      <td>1</td>\n",
       "      <td>1</td>\n",
       "      <td>0.0</td>\n",
       "      <td>0.0</td>\n",
       "      <td>1.0</td>\n",
       "      <td>0.0</td>\n",
       "    </tr>\n",
       "  </tbody>\n",
       "</table>\n",
       "<p>11083 rows × 11 columns</p>\n",
       "</div>"
      ],
      "text/plain": [
       "                    Type   Price      State  Total_Area  Price_per_SQFT  \\\n",
       "2                  Flat   100.00    Chennai        1320         7575.76   \n",
       "4                  Flat    48.00    Chennai         960         5000.00   \n",
       "5                  Flat    40.00    Chennai         940         4255.32   \n",
       "6                  Flat    60.00    Chennai         880         6818.18   \n",
       "7      Independent House   72.35    Chennai        1700         4255.88   \n",
       "...                  ...     ...        ...         ...             ...   \n",
       "14523              Flat    40.00  New Delhi        1053         3798.67   \n",
       "14524  Independent House   14.00  New Delhi         472         2966.10   \n",
       "14525              Flat    30.00  New Delhi         378         7936.51   \n",
       "14526              Flat    60.00  New Delhi         700         8571.43   \n",
       "14527  Independent House   55.00  New Delhi         344        15988.37   \n",
       "\n",
       "       Baths  Balcony  BHK   BH   RK    R  \n",
       "2          3        0  3.0  0.0  0.0  0.0  \n",
       "4          3        1  2.0  0.0  0.0  0.0  \n",
       "5          3        0  2.0  0.0  0.0  0.0  \n",
       "6          3        1  2.0  0.0  0.0  0.0  \n",
       "7          3        1  3.0  0.0  0.0  0.0  \n",
       "...      ...      ...  ...  ...  ...  ...  \n",
       "14523      3        1  2.0  0.0  0.0  0.0  \n",
       "14524      2        1  1.0  0.0  0.0  0.0  \n",
       "14525      1        1  1.0  0.0  0.0  0.0  \n",
       "14526      2        1  3.0  0.0  0.0  0.0  \n",
       "14527      1        1  0.0  0.0  1.0  0.0  \n",
       "\n",
       "[11083 rows x 11 columns]"
      ]
     },
     "execution_count": 13,
     "metadata": {},
     "output_type": "execute_result"
    }
   ],
   "source": [
    "li = ['Price_per_SQFT','Price','Total_Area','BHK']\n",
    "df2 = out_rem(df1,li)\n",
    "df2"
   ]
  },
  {
   "cell_type": "code",
   "execution_count": 14,
   "id": "c9d5afdf",
   "metadata": {},
   "outputs": [
    {
     "data": {
      "application/javascript": [
       "\n",
       "        if (window._pyforest_update_imports_cell) { window._pyforest_update_imports_cell('import pandas as pd\\nimport seaborn as sns\\nimport matplotlib.pyplot as plt'); }\n",
       "    "
      ],
      "text/plain": [
       "<IPython.core.display.Javascript object>"
      ]
     },
     "metadata": {},
     "output_type": "display_data"
    },
    {
     "data": {
      "application/javascript": [
       "\n",
       "        if (window._pyforest_update_imports_cell) { window._pyforest_update_imports_cell('import pandas as pd\\nimport seaborn as sns\\nimport matplotlib.pyplot as plt'); }\n",
       "    "
      ],
      "text/plain": [
       "<IPython.core.display.Javascript object>"
      ]
     },
     "metadata": {},
     "output_type": "display_data"
    },
    {
     "data": {
      "application/javascript": [
       "\n",
       "        if (window._pyforest_update_imports_cell) { window._pyforest_update_imports_cell('import pandas as pd\\nimport seaborn as sns\\nimport matplotlib.pyplot as plt'); }\n",
       "    "
      ],
      "text/plain": [
       "<IPython.core.display.Javascript object>"
      ]
     },
     "metadata": {},
     "output_type": "display_data"
    },
    {
     "data": {
      "application/javascript": [
       "\n",
       "        if (window._pyforest_update_imports_cell) { window._pyforest_update_imports_cell('import pandas as pd\\nimport seaborn as sns\\nimport matplotlib.pyplot as plt'); }\n",
       "    "
      ],
      "text/plain": [
       "<IPython.core.display.Javascript object>"
      ]
     },
     "metadata": {},
     "output_type": "display_data"
    },
    {
     "data": {
      "application/javascript": [
       "\n",
       "        if (window._pyforest_update_imports_cell) { window._pyforest_update_imports_cell('import pandas as pd\\nimport seaborn as sns\\nimport matplotlib.pyplot as plt'); }\n",
       "    "
      ],
      "text/plain": [
       "<IPython.core.display.Javascript object>"
      ]
     },
     "metadata": {},
     "output_type": "display_data"
    },
    {
     "data": {
      "application/javascript": [
       "\n",
       "        if (window._pyforest_update_imports_cell) { window._pyforest_update_imports_cell('import pandas as pd\\nimport seaborn as sns\\nimport matplotlib.pyplot as plt'); }\n",
       "    "
      ],
      "text/plain": [
       "<IPython.core.display.Javascript object>"
      ]
     },
     "metadata": {},
     "output_type": "display_data"
    },
    {
     "data": {
      "application/javascript": [
       "\n",
       "        if (window._pyforest_update_imports_cell) { window._pyforest_update_imports_cell('import pandas as pd\\nimport seaborn as sns\\nimport matplotlib.pyplot as plt'); }\n",
       "    "
      ],
      "text/plain": [
       "<IPython.core.display.Javascript object>"
      ]
     },
     "metadata": {},
     "output_type": "display_data"
    },
    {
     "data": {
      "application/javascript": [
       "\n",
       "        if (window._pyforest_update_imports_cell) { window._pyforest_update_imports_cell('import pandas as pd\\nimport seaborn as sns\\nimport matplotlib.pyplot as plt'); }\n",
       "    "
      ],
      "text/plain": [
       "<IPython.core.display.Javascript object>"
      ]
     },
     "metadata": {},
     "output_type": "display_data"
    },
    {
     "data": {
      "application/javascript": [
       "\n",
       "        if (window._pyforest_update_imports_cell) { window._pyforest_update_imports_cell('import pandas as pd\\nimport seaborn as sns\\nimport matplotlib.pyplot as plt'); }\n",
       "    "
      ],
      "text/plain": [
       "<IPython.core.display.Javascript object>"
      ]
     },
     "metadata": {},
     "output_type": "display_data"
    },
    {
     "data": {
      "application/javascript": [
       "\n",
       "        if (window._pyforest_update_imports_cell) { window._pyforest_update_imports_cell('import pandas as pd\\nimport seaborn as sns\\nimport matplotlib.pyplot as plt'); }\n",
       "    "
      ],
      "text/plain": [
       "<IPython.core.display.Javascript object>"
      ]
     },
     "metadata": {},
     "output_type": "display_data"
    },
    {
     "data": {
      "application/javascript": [
       "\n",
       "        if (window._pyforest_update_imports_cell) { window._pyforest_update_imports_cell('import pandas as pd\\nimport seaborn as sns\\nimport matplotlib.pyplot as plt'); }\n",
       "    "
      ],
      "text/plain": [
       "<IPython.core.display.Javascript object>"
      ]
     },
     "metadata": {},
     "output_type": "display_data"
    },
    {
     "data": {
      "application/javascript": [
       "\n",
       "        if (window._pyforest_update_imports_cell) { window._pyforest_update_imports_cell('import pandas as pd\\nimport seaborn as sns\\nimport matplotlib.pyplot as plt'); }\n",
       "    "
      ],
      "text/plain": [
       "<IPython.core.display.Javascript object>"
      ]
     },
     "metadata": {},
     "output_type": "display_data"
    },
    {
     "data": {
      "application/javascript": [
       "\n",
       "        if (window._pyforest_update_imports_cell) { window._pyforest_update_imports_cell('import pandas as pd\\nimport seaborn as sns\\nimport matplotlib.pyplot as plt'); }\n",
       "    "
      ],
      "text/plain": [
       "<IPython.core.display.Javascript object>"
      ]
     },
     "metadata": {},
     "output_type": "display_data"
    },
    {
     "data": {
      "application/javascript": [
       "\n",
       "        if (window._pyforest_update_imports_cell) { window._pyforest_update_imports_cell('import pandas as pd\\nimport seaborn as sns\\nimport matplotlib.pyplot as plt'); }\n",
       "    "
      ],
      "text/plain": [
       "<IPython.core.display.Javascript object>"
      ]
     },
     "metadata": {},
     "output_type": "display_data"
    },
    {
     "data": {
      "application/javascript": [
       "\n",
       "        if (window._pyforest_update_imports_cell) { window._pyforest_update_imports_cell('import pandas as pd\\nimport seaborn as sns\\nimport matplotlib.pyplot as plt'); }\n",
       "    "
      ],
      "text/plain": [
       "<IPython.core.display.Javascript object>"
      ]
     },
     "metadata": {},
     "output_type": "display_data"
    },
    {
     "data": {
      "application/javascript": [
       "\n",
       "        if (window._pyforest_update_imports_cell) { window._pyforest_update_imports_cell('import pandas as pd\\nimport seaborn as sns\\nimport matplotlib.pyplot as plt'); }\n",
       "    "
      ],
      "text/plain": [
       "<IPython.core.display.Javascript object>"
      ]
     },
     "metadata": {},
     "output_type": "display_data"
    },
    {
     "data": {
      "application/javascript": [
       "\n",
       "        if (window._pyforest_update_imports_cell) { window._pyforest_update_imports_cell('import pandas as pd\\nimport seaborn as sns\\nimport matplotlib.pyplot as plt'); }\n",
       "    "
      ],
      "text/plain": [
       "<IPython.core.display.Javascript object>"
      ]
     },
     "metadata": {},
     "output_type": "display_data"
    },
    {
     "data": {
      "application/javascript": [
       "\n",
       "        if (window._pyforest_update_imports_cell) { window._pyforest_update_imports_cell('import pandas as pd\\nimport seaborn as sns\\nimport matplotlib.pyplot as plt'); }\n",
       "    "
      ],
      "text/plain": [
       "<IPython.core.display.Javascript object>"
      ]
     },
     "metadata": {},
     "output_type": "display_data"
    },
    {
     "data": {
      "application/javascript": [
       "\n",
       "        if (window._pyforest_update_imports_cell) { window._pyforest_update_imports_cell('import pandas as pd\\nimport seaborn as sns\\nimport matplotlib.pyplot as plt'); }\n",
       "    "
      ],
      "text/plain": [
       "<IPython.core.display.Javascript object>"
      ]
     },
     "metadata": {},
     "output_type": "display_data"
    },
    {
     "data": {
      "image/png": "[encoded data removed]",
      "text/plain": [
       "<Figure size 2500x1500 with 9 Axes>"
      ]
     },
     "metadata": {},
     "output_type": "display_data"
    }
   ],
   "source": [
    "l = ['Price', 'Total_Area', 'Price_per_SQFT', 'Baths',\n",
    "       'Balcony', 'BHK', 'BH', 'RK', 'R']\n",
    "box_plot(df2,l)"
   ]
  },
  {
   "cell_type": "code",
   "execution_count": 15,
   "id": "7ea268b9",
   "metadata": {},
   "outputs": [],
   "source": [
    "df2.rename(columns = ({'State':'City'}), inplace = True)"
   ]
  },
  {
   "cell_type": "markdown",
   "id": "9a4ee5a1",
   "metadata": {},
   "source": [
    "# Model Training"
   ]
  },
  {
   "cell_type": "code",
   "execution_count": 16,
   "id": "04a7efd3",
   "metadata": {},
   "outputs": [
    {
     "data": {
      "application/javascript": [
       "\n",
       "        if (window._pyforest_update_imports_cell) { window._pyforest_update_imports_cell('import pandas as pd\\nimport seaborn as sns\\nimport matplotlib.pyplot as plt'); }\n",
       "    "
      ],
      "text/plain": [
       "<IPython.core.display.Javascript object>"
      ]
     },
     "metadata": {},
     "output_type": "display_data"
    },
    {
     "data": {
      "application/javascript": [
       "\n",
       "        if (window._pyforest_update_imports_cell) { window._pyforest_update_imports_cell('import pandas as pd\\nimport seaborn as sns\\nimport matplotlib.pyplot as plt'); }\n",
       "    "
      ],
      "text/plain": [
       "<IPython.core.display.Javascript object>"
      ]
     },
     "metadata": {},
     "output_type": "display_data"
    },
    {
     "data": {
      "application/javascript": [
       "\n",
       "        if (window._pyforest_update_imports_cell) { window._pyforest_update_imports_cell('import pandas as pd\\nimport seaborn as sns\\nimport matplotlib.pyplot as plt'); }\n",
       "    "
      ],
      "text/plain": [
       "<IPython.core.display.Javascript object>"
      ]
     },
     "metadata": {},
     "output_type": "display_data"
    },
    {
     "data": {
      "text/html": [
       "<div>\n",
       "<style scoped>\n",
       "    .dataframe tbody tr th:only-of-type {\n",
       "        vertical-align: middle;\n",
       "    }\n",
       "\n",
       "    .dataframe tbody tr th {\n",
       "        vertical-align: top;\n",
       "    }\n",
       "\n",
       "    .dataframe thead th {\n",
       "        text-align: right;\n",
       "    }\n",
       "</style>\n",
       "<table border=\"1\" class=\"dataframe\">\n",
       "  <thead>\n",
       "    <tr style=\"text-align: right;\">\n",
       "      <th></th>\n",
       "      <th>Price</th>\n",
       "      <th>Total_Area</th>\n",
       "      <th>Baths</th>\n",
       "      <th>Balcony</th>\n",
       "      <th>BHK</th>\n",
       "      <th>BH</th>\n",
       "      <th>RK</th>\n",
       "      <th>R</th>\n",
       "      <th>Chennai</th>\n",
       "      <th>Hyderabad</th>\n",
       "      <th>Kolkata</th>\n",
       "      <th>Mumbai</th>\n",
       "      <th>New Delhi</th>\n",
       "      <th>Pune</th>\n",
       "      <th>Independent House</th>\n",
       "      <th>Shop Flat</th>\n",
       "      <th>Studio Flat</th>\n",
       "      <th>Studio Independent</th>\n",
       "      <th>Villa</th>\n",
       "    </tr>\n",
       "  </thead>\n",
       "  <tbody>\n",
       "    <tr>\n",
       "      <th>2</th>\n",
       "      <td>100.0</td>\n",
       "      <td>1320</td>\n",
       "      <td>3</td>\n",
       "      <td>0</td>\n",
       "      <td>3.0</td>\n",
       "      <td>0.0</td>\n",
       "      <td>0.0</td>\n",
       "      <td>0.0</td>\n",
       "      <td>1</td>\n",
       "      <td>0</td>\n",
       "      <td>0</td>\n",
       "      <td>0</td>\n",
       "      <td>0</td>\n",
       "      <td>0</td>\n",
       "      <td>0</td>\n",
       "      <td>0</td>\n",
       "      <td>0</td>\n",
       "      <td>0</td>\n",
       "      <td>0</td>\n",
       "    </tr>\n",
       "    <tr>\n",
       "      <th>4</th>\n",
       "      <td>48.0</td>\n",
       "      <td>960</td>\n",
       "      <td>3</td>\n",
       "      <td>1</td>\n",
       "      <td>2.0</td>\n",
       "      <td>0.0</td>\n",
       "      <td>0.0</td>\n",
       "      <td>0.0</td>\n",
       "      <td>1</td>\n",
       "      <td>0</td>\n",
       "      <td>0</td>\n",
       "      <td>0</td>\n",
       "      <td>0</td>\n",
       "      <td>0</td>\n",
       "      <td>0</td>\n",
       "      <td>0</td>\n",
       "      <td>0</td>\n",
       "      <td>0</td>\n",
       "      <td>0</td>\n",
       "    </tr>\n",
       "    <tr>\n",
       "      <th>5</th>\n",
       "      <td>40.0</td>\n",
       "      <td>940</td>\n",
       "      <td>3</td>\n",
       "      <td>0</td>\n",
       "      <td>2.0</td>\n",
       "      <td>0.0</td>\n",
       "      <td>0.0</td>\n",
       "      <td>0.0</td>\n",
       "      <td>1</td>\n",
       "      <td>0</td>\n",
       "      <td>0</td>\n",
       "      <td>0</td>\n",
       "      <td>0</td>\n",
       "      <td>0</td>\n",
       "      <td>0</td>\n",
       "      <td>0</td>\n",
       "      <td>0</td>\n",
       "      <td>0</td>\n",
       "      <td>0</td>\n",
       "    </tr>\n",
       "  </tbody>\n",
       "</table>\n",
       "</div>"
      ],
      "text/plain": [
       "   Price  Total_Area  Baths  Balcony  BHK   BH   RK    R  Chennai  Hyderabad  \\\n",
       "2  100.0        1320      3        0  3.0  0.0  0.0  0.0        1          0   \n",
       "4   48.0         960      3        1  2.0  0.0  0.0  0.0        1          0   \n",
       "5   40.0         940      3        0  2.0  0.0  0.0  0.0        1          0   \n",
       "\n",
       "   Kolkata  Mumbai  New Delhi  Pune  Independent House  Shop Flat  \\\n",
       "2        0       0          0     0                  0          0   \n",
       "4        0       0          0     0                  0          0   \n",
       "5        0       0          0     0                  0          0   \n",
       "\n",
       "   Studio Flat  Studio Independent  Villa   \n",
       "2            0                   0       0  \n",
       "4            0                   0       0  \n",
       "5            0                   0       0  "
      ]
     },
     "execution_count": 16,
     "metadata": {},
     "output_type": "execute_result"
    }
   ],
   "source": [
    "d1 = pd.get_dummies(df2['City'], drop_first = True )\n",
    "d2 = pd.get_dummies(df2['Type'], drop_first = True)\n",
    "df3 = pd.concat([df2.drop(['Type','City'],axis = 1),d1,d2],axis = 1)\n",
    "df3.drop('Price_per_SQFT',axis = 1,inplace= True)\n",
    "x = df3.drop('Price',axis = 1)\n",
    "y = df3['Price']\n",
    "\n",
    "df3.head(3)"
   ]
  },
  {
   "cell_type": "code",
   "execution_count": 17,
   "id": "5053e3de",
   "metadata": {},
   "outputs": [],
   "source": [
    "from sklearn.model_selection import train_test_split\n",
    "X_train,X_test,Y_train,Y_test = train_test_split(x,y, test_size = 0.2)"
   ]
  },
  {
   "cell_type": "code",
   "execution_count": 18,
   "id": "cdc21772",
   "metadata": {},
   "outputs": [],
   "source": [
    "from sklearn.linear_model import LinearRegression\n",
    "model = LinearRegression()"
   ]
  },
  {
   "cell_type": "code",
   "execution_count": 19,
   "id": "bcf4a67e",
   "metadata": {},
   "outputs": [
    {
     "data": {
      "text/html": [
       "<style>#sk-container-id-1 {color: black;background-color: white;}#sk-container-id-1 pre{padding: 0;}#sk-container-id-1 div.sk-toggleable {background-color: white;}#sk-container-id-1 label.sk-toggleable__label {cursor: pointer;display: block;width: 100%;margin-bottom: 0;padding: 0.3em;box-sizing: border-box;text-align: center;}#sk-container-id-1 label.sk-toggleable__label-arrow:before {content: \"▸\";float: left;margin-right: 0.25em;color: #696969;}#sk-container-id-1 label.sk-toggleable__label-arrow:hover:before {color: black;}#sk-container-id-1 div.sk-estimator:hover label.sk-toggleable__label-arrow:before {color: black;}#sk-container-id-1 div.sk-toggleable__content {max-height: 0;max-width: 0;overflow: hidden;text-align: left;background-color: #f0f8ff;}#sk-container-id-1 div.sk-toggleable__content pre {margin: 0.2em;color: black;border-radius: 0.25em;background-color: #f0f8ff;}#sk-container-id-1 input.sk-toggleable__control:checked~div.sk-toggleable__content {max-height: 200px;max-width: 100%;overflow: auto;}#sk-container-id-1 input.sk-toggleable__control:checked~label.sk-toggleable__label-arrow:before {content: \"▾\";}#sk-container-id-1 div.sk-estimator input.sk-toggleable__control:checked~label.sk-toggleable__label {background-color: #d4ebff;}#sk-container-id-1 div.sk-label input.sk-toggleable__control:checked~label.sk-toggleable__label {background-color: #d4ebff;}#sk-container-id-1 input.sk-hidden--visually {border: 0;clip: rect(1px 1px 1px 1px);clip: rect(1px, 1px, 1px, 1px);height: 1px;margin: -1px;overflow: hidden;padding: 0;position: absolute;width: 1px;}#sk-container-id-1 div.sk-estimator {font-family: monospace;background-color: #f0f8ff;border: 1px dotted black;border-radius: 0.25em;box-sizing: border-box;margin-bottom: 0.5em;}#sk-container-id-1 div.sk-estimator:hover {background-color: #d4ebff;}#sk-container-id-1 div.sk-parallel-item::after {content: \"\";width: 100%;border-bottom: 1px solid gray;flex-grow: 1;}#sk-container-id-1 div.sk-label:hover label.sk-toggleable__label {background-color: #d4ebff;}#sk-container-id-1 div.sk-serial::before {content: \"\";position: absolute;border-left: 1px solid gray;box-sizing: border-box;top: 0;bottom: 0;left: 50%;z-index: 0;}#sk-container-id-1 div.sk-serial {display: flex;flex-direction: column;align-items: center;background-color: white;padding-right: 0.2em;padding-left: 0.2em;position: relative;}#sk-container-id-1 div.sk-item {position: relative;z-index: 1;}#sk-container-id-1 div.sk-parallel {display: flex;align-items: stretch;justify-content: center;background-color: white;position: relative;}#sk-container-id-1 div.sk-item::before, #sk-container-id-1 div.sk-parallel-item::before {content: \"\";position: absolute;border-left: 1px solid gray;box-sizing: border-box;top: 0;bottom: 0;left: 50%;z-index: -1;}#sk-container-id-1 div.sk-parallel-item {display: flex;flex-direction: column;z-index: 1;position: relative;background-color: white;}#sk-container-id-1 div.sk-parallel-item:first-child::after {align-self: flex-end;width: 50%;}#sk-container-id-1 div.sk-parallel-item:last-child::after {align-self: flex-start;width: 50%;}#sk-container-id-1 div.sk-parallel-item:only-child::after {width: 0;}#sk-container-id-1 div.sk-dashed-wrapped {border: 1px dashed gray;margin: 0 0.4em 0.5em 0.4em;box-sizing: border-box;padding-bottom: 0.4em;background-color: white;}#sk-container-id-1 div.sk-label label {font-family: monospace;font-weight: bold;display: inline-block;line-height: 1.2em;}#sk-container-id-1 div.sk-label-container {text-align: center;}#sk-container-id-1 div.sk-container {/* jupyter's `normalize.less` sets `[hidden] { display: none; }` but bootstrap.min.css set `[hidden] { display: none !important; }` so we also need the `!important` here to be able to override the default hidden behavior on the sphinx rendered scikit-learn.org. See: https://github.com/scikit-learn/scikit-learn/issues/21755 */display: inline-block !important;position: relative;}#sk-container-id-1 div.sk-text-repr-fallback {display: none;}</style><div id=\"sk-container-id-1\" class=\"sk-top-container\"><div class=\"sk-text-repr-fallback\"><pre>LinearRegression()</pre><b>In a Jupyter environment, please rerun this cell to show the HTML representation or trust the notebook. <br />On GitHub, the HTML representation is unable to render, please try loading this page with nbviewer.org.</b></div><div class=\"sk-container\" hidden><div class=\"sk-item\"><div class=\"sk-estimator sk-toggleable\"><input class=\"sk-toggleable__control sk-hidden--visually\" id=\"sk-estimator-id-1\" type=\"checkbox\" checked><label for=\"sk-estimator-id-1\" class=\"sk-toggleable__label sk-toggleable__label-arrow\">LinearRegression</label><div class=\"sk-toggleable__content\"><pre>LinearRegression()</pre></div></div></div></div></div>"
      ],
      "text/plain": [
       "LinearRegression()"
      ]
     },
     "execution_count": 19,
     "metadata": {},
     "output_type": "execute_result"
    }
   ],
   "source": [
    "model.fit(X_train,Y_train)"
   ]
  },
  {
   "cell_type": "code",
   "execution_count": 20,
   "id": "1d5ed76b",
   "metadata": {},
   "outputs": [
    {
     "data": {
      "text/plain": [
       "(0.48736452357455906, 0.5093449758662008)"
      ]
     },
     "execution_count": 20,
     "metadata": {},
     "output_type": "execute_result"
    }
   ],
   "source": [
    "model.score(X_test,Y_test),model.score(X_train,Y_train)"
   ]
  },
  {
   "cell_type": "markdown",
   "id": "e77ea439",
   "metadata": {},
   "source": [
    "# Cross Validation"
   ]
  },
  {
   "cell_type": "code",
   "execution_count": 21,
   "id": "2dcc94f3",
   "metadata": {},
   "outputs": [
    {
     "data": {
      "text/plain": [
       "array([0.49735388, 0.48105616, 0.47136282, 0.52981952, 0.48681691,\n",
       "       0.48706704, 0.49537018, 0.50891738, 0.48754617, 0.50772056])"
      ]
     },
     "execution_count": 21,
     "metadata": {},
     "output_type": "execute_result"
    }
   ],
   "source": [
    "from sklearn.model_selection import ShuffleSplit # To create simillar random folds \n",
    "from sklearn.model_selection import cross_val_score\n",
    "c = ShuffleSplit(n_splits = 10 , test_size = 0.2 , random_state= 0)\n",
    "cross_val_score(LinearRegression(),x,y , cv = c)"
   ]
  },
  {
   "cell_type": "markdown",
   "id": "33d520dd",
   "metadata": {},
   "source": [
    "# Hyperparameter Tuning"
   ]
  },
  {
   "cell_type": "code",
   "execution_count": 22,
   "id": "dfa6199a",
   "metadata": {},
   "outputs": [],
   "source": [
    "from sklearn.model_selection import GridSearchCV\n",
    "\n",
    "# from sklearn.linear_model import LinearRegression\n",
    "from sklearn.svm import SVR\n",
    "from sklearn.ensemble import RandomForestRegressor\n",
    "from sklearn.tree import DecisionTreeRegressor\n",
    "from sklearn.linear_model import Lasso\n",
    "def find_best_model(input_x,output_y):\n",
    "    models = {\n",
    "        'LinearRegression':{'model': LinearRegression(), 'param':{}},\n",
    "        \n",
    "        'Lasso':{'model':Lasso(), 'param':{'alpha':[5,10,20,30,40,50],'selection':['random','cyclic']}},\n",
    "        \n",
    "        'RandomForestRegressor':{'model':RandomForestRegressor(), 'param':{'criterion':['mse','friedman_mse']}},\n",
    "        \n",
    "#         'decision_tree':{'model':DecisionTreeRegressor(), 'param':{'criterion':['mse','friedman_mse'],'splitter':['best','random']}}\n",
    "    }\n",
    "    \n",
    "    score = []\n",
    "    c = ShuffleSplit(n_splits = 6 , test_size = 0.2 , random_state= 0)\n",
    "    for i,j in models.items():\n",
    "        gsr = GridSearchCV(j['model'],j['param'],cv = c , return_train_score=False)\n",
    "        gsr.fit(input_x,output_y)\n",
    "        score.append({\n",
    "            'model':i,\n",
    "            'best_score':gsr.best_score_,\n",
    "            'best_paramaters':gsr.best_params_\n",
    "        })\n",
    "    \n",
    "    # Saving Scores into DataFrame\n",
    "    score_details = pd.DataFrame(score,columns = ['model','best_score','best_paramaters'])\n",
    "    return score_details"
   ]
  },
  {
   "cell_type": "code",
   "execution_count": 23,
   "id": "f6c2e1c8",
   "metadata": {},
   "outputs": [
    {
     "data": {
      "application/javascript": [
       "\n",
       "        if (window._pyforest_update_imports_cell) { window._pyforest_update_imports_cell('import pandas as pd\\nimport seaborn as sns\\nimport matplotlib.pyplot as plt'); }\n",
       "    "
      ],
      "text/plain": [
       "<IPython.core.display.Javascript object>"
      ]
     },
     "metadata": {},
     "output_type": "display_data"
    },
    {
     "data": {
      "text/html": [
       "<div>\n",
       "<style scoped>\n",
       "    .dataframe tbody tr th:only-of-type {\n",
       "        vertical-align: middle;\n",
       "    }\n",
       "\n",
       "    .dataframe tbody tr th {\n",
       "        vertical-align: top;\n",
       "    }\n",
       "\n",
       "    .dataframe thead th {\n",
       "        text-align: right;\n",
       "    }\n",
       "</style>\n",
       "<table border=\"1\" class=\"dataframe\">\n",
       "  <thead>\n",
       "    <tr style=\"text-align: right;\">\n",
       "      <th></th>\n",
       "      <th>model</th>\n",
       "      <th>best_score</th>\n",
       "      <th>best_paramaters</th>\n",
       "    </tr>\n",
       "  </thead>\n",
       "  <tbody>\n",
       "    <tr>\n",
       "      <th>0</th>\n",
       "      <td>LinearRegression</td>\n",
       "      <td>0.492246</td>\n",
       "      <td>{}</td>\n",
       "    </tr>\n",
       "    <tr>\n",
       "      <th>1</th>\n",
       "      <td>Lasso</td>\n",
       "      <td>0.441621</td>\n",
       "      <td>{'alpha': 50, 'selection': 'random'}</td>\n",
       "    </tr>\n",
       "    <tr>\n",
       "      <th>2</th>\n",
       "      <td>RandomForestRegressor</td>\n",
       "      <td>0.455729</td>\n",
       "      <td>{'criterion': 'friedman_mse'}</td>\n",
       "    </tr>\n",
       "  </tbody>\n",
       "</table>\n",
       "</div>"
      ],
      "text/plain": [
       "                   model  best_score                       best_paramaters\n",
       "0       LinearRegression    0.492246                                    {}\n",
       "1                  Lasso    0.441621  {'alpha': 50, 'selection': 'random'}\n",
       "2  RandomForestRegressor    0.455729         {'criterion': 'friedman_mse'}"
      ]
     },
     "execution_count": 23,
     "metadata": {},
     "output_type": "execute_result"
    }
   ],
   "source": [
    "import warnings\n",
    "warnings.filterwarnings('ignore')\n",
    "find_best_model(x,y)"
   ]
  },
  {
   "cell_type": "markdown",
   "id": "928a0aeb",
   "metadata": {},
   "source": [
    "# Lets Check Outliers Again"
   ]
  },
  {
   "cell_type": "code",
   "execution_count": 24,
   "id": "014b1f78",
   "metadata": {},
   "outputs": [
    {
     "data": {
      "text/plain": [
       "Price         4.430208\n",
       "Total_Area    0.541370\n",
       "Baths         0.902283\n",
       "Balcony       0.000000\n",
       "BHK           0.000000\n",
       "BH            0.036091\n",
       "RK            5.152035\n",
       "R             0.036091\n",
       "dtype: float64"
      ]
     },
     "execution_count": 24,
     "metadata": {},
     "output_type": "execute_result"
    }
   ],
   "source": [
    "l = ['Price', 'Total_Area','Baths',\n",
    "       'Balcony', 'BHK', 'BH', 'RK', 'R']\n",
    "out_check(df2,l)"
   ]
  },
  {
   "cell_type": "code",
   "execution_count": 25,
   "id": "296a6cf5",
   "metadata": {},
   "outputs": [
    {
     "name": "stdout",
     "output_type": "stream",
     "text": [
      "Q1 = 4312.35 | Q3 = 7500.0 | IQR =  3187.6499999999996\n",
      "Upper fence = 12281.474999999999\n",
      "Lower fence = -469.1249999999991\n",
      "Nos of Records Deleted = 508\n",
      "% of Records Deleted = 4.58 \n",
      "\n",
      "Q1 = 32.0 | Q3 = 75.0 | IQR =  43.0\n",
      "Upper fence = 139.5\n",
      "Lower fence = -32.5\n",
      "Nos of Records Deleted = 345\n",
      "% of Records Deleted = 3.26 \n",
      "\n",
      "Q1 = 629.0 | Q3 = 1200.0 | IQR =  571.0\n",
      "Upper fence = 2056.5\n",
      "Lower fence = -227.5\n",
      "Nos of Records Deleted = 38\n",
      "% of Records Deleted = 0.37 \n",
      "\n",
      "Q1 = 1.0 | Q3 = 2.0 | IQR =  1.0\n",
      "Upper fence = 3.5\n",
      "Lower fence = -0.5\n",
      "Nos of Records Deleted = 394\n",
      "% of Records Deleted = 3.87 \n",
      "\n"
     ]
    },
    {
     "data": {
      "text/plain": [
       "(9798, 11)"
      ]
     },
     "execution_count": 25,
     "metadata": {},
     "output_type": "execute_result"
    }
   ],
   "source": [
    "ln = ['Price_per_SQFT','Price','Total_Area','RK']\n",
    "df4 = out_rem(df2,li)\n",
    "df4.shape"
   ]
  },
  {
   "cell_type": "code",
   "execution_count": 26,
   "id": "e9ad5251",
   "metadata": {},
   "outputs": [
    {
     "data": {
      "text/plain": [
       "Price         0.581751\n",
       "Total_Area    0.622576\n",
       "Baths         0.836905\n",
       "Balcony       0.000000\n",
       "BHK           0.000000\n",
       "BH            0.040825\n",
       "RK            5.337824\n",
       "R             0.040825\n",
       "dtype: float64"
      ]
     },
     "execution_count": 26,
     "metadata": {},
     "output_type": "execute_result"
    }
   ],
   "source": [
    "l = ['Price', 'Total_Area','Baths',\n",
    "       'Balcony', 'BHK', 'BH', 'RK', 'R']\n",
    "out_check(df4,l)"
   ]
  },
  {
   "cell_type": "code",
   "execution_count": 27,
   "id": "3d1ee4bc",
   "metadata": {},
   "outputs": [
    {
     "data": {
      "application/javascript": [
       "\n",
       "        if (window._pyforest_update_imports_cell) { window._pyforest_update_imports_cell('import pandas as pd\\nimport seaborn as sns\\nimport matplotlib.pyplot as plt'); }\n",
       "    "
      ],
      "text/plain": [
       "<IPython.core.display.Javascript object>"
      ]
     },
     "metadata": {},
     "output_type": "display_data"
    },
    {
     "data": {
      "application/javascript": [
       "\n",
       "        if (window._pyforest_update_imports_cell) { window._pyforest_update_imports_cell('import pandas as pd\\nimport seaborn as sns\\nimport matplotlib.pyplot as plt'); }\n",
       "    "
      ],
      "text/plain": [
       "<IPython.core.display.Javascript object>"
      ]
     },
     "metadata": {},
     "output_type": "display_data"
    },
    {
     "data": {
      "application/javascript": [
       "\n",
       "        if (window._pyforest_update_imports_cell) { window._pyforest_update_imports_cell('import pandas as pd\\nimport seaborn as sns\\nimport matplotlib.pyplot as plt'); }\n",
       "    "
      ],
      "text/plain": [
       "<IPython.core.display.Javascript object>"
      ]
     },
     "metadata": {},
     "output_type": "display_data"
    },
    {
     "data": {
      "application/javascript": [
       "\n",
       "        if (window._pyforest_update_imports_cell) { window._pyforest_update_imports_cell('import pandas as pd\\nimport seaborn as sns\\nimport matplotlib.pyplot as plt'); }\n",
       "    "
      ],
      "text/plain": [
       "<IPython.core.display.Javascript object>"
      ]
     },
     "metadata": {},
     "output_type": "display_data"
    },
    {
     "data": {
      "application/javascript": [
       "\n",
       "        if (window._pyforest_update_imports_cell) { window._pyforest_update_imports_cell('import pandas as pd\\nimport seaborn as sns\\nimport matplotlib.pyplot as plt'); }\n",
       "    "
      ],
      "text/plain": [
       "<IPython.core.display.Javascript object>"
      ]
     },
     "metadata": {},
     "output_type": "display_data"
    },
    {
     "data": {
      "application/javascript": [
       "\n",
       "        if (window._pyforest_update_imports_cell) { window._pyforest_update_imports_cell('import pandas as pd\\nimport seaborn as sns\\nimport matplotlib.pyplot as plt'); }\n",
       "    "
      ],
      "text/plain": [
       "<IPython.core.display.Javascript object>"
      ]
     },
     "metadata": {},
     "output_type": "display_data"
    },
    {
     "data": {
      "application/javascript": [
       "\n",
       "        if (window._pyforest_update_imports_cell) { window._pyforest_update_imports_cell('import pandas as pd\\nimport seaborn as sns\\nimport matplotlib.pyplot as plt'); }\n",
       "    "
      ],
      "text/plain": [
       "<IPython.core.display.Javascript object>"
      ]
     },
     "metadata": {},
     "output_type": "display_data"
    },
    {
     "data": {
      "application/javascript": [
       "\n",
       "        if (window._pyforest_update_imports_cell) { window._pyforest_update_imports_cell('import pandas as pd\\nimport seaborn as sns\\nimport matplotlib.pyplot as plt'); }\n",
       "    "
      ],
      "text/plain": [
       "<IPython.core.display.Javascript object>"
      ]
     },
     "metadata": {},
     "output_type": "display_data"
    },
    {
     "data": {
      "application/javascript": [
       "\n",
       "        if (window._pyforest_update_imports_cell) { window._pyforest_update_imports_cell('import pandas as pd\\nimport seaborn as sns\\nimport matplotlib.pyplot as plt'); }\n",
       "    "
      ],
      "text/plain": [
       "<IPython.core.display.Javascript object>"
      ]
     },
     "metadata": {},
     "output_type": "display_data"
    },
    {
     "data": {
      "application/javascript": [
       "\n",
       "        if (window._pyforest_update_imports_cell) { window._pyforest_update_imports_cell('import pandas as pd\\nimport seaborn as sns\\nimport matplotlib.pyplot as plt'); }\n",
       "    "
      ],
      "text/plain": [
       "<IPython.core.display.Javascript object>"
      ]
     },
     "metadata": {},
     "output_type": "display_data"
    },
    {
     "data": {
      "application/javascript": [
       "\n",
       "        if (window._pyforest_update_imports_cell) { window._pyforest_update_imports_cell('import pandas as pd\\nimport seaborn as sns\\nimport matplotlib.pyplot as plt'); }\n",
       "    "
      ],
      "text/plain": [
       "<IPython.core.display.Javascript object>"
      ]
     },
     "metadata": {},
     "output_type": "display_data"
    },
    {
     "data": {
      "application/javascript": [
       "\n",
       "        if (window._pyforest_update_imports_cell) { window._pyforest_update_imports_cell('import pandas as pd\\nimport seaborn as sns\\nimport matplotlib.pyplot as plt'); }\n",
       "    "
      ],
      "text/plain": [
       "<IPython.core.display.Javascript object>"
      ]
     },
     "metadata": {},
     "output_type": "display_data"
    },
    {
     "data": {
      "application/javascript": [
       "\n",
       "        if (window._pyforest_update_imports_cell) { window._pyforest_update_imports_cell('import pandas as pd\\nimport seaborn as sns\\nimport matplotlib.pyplot as plt'); }\n",
       "    "
      ],
      "text/plain": [
       "<IPython.core.display.Javascript object>"
      ]
     },
     "metadata": {},
     "output_type": "display_data"
    },
    {
     "data": {
      "application/javascript": [
       "\n",
       "        if (window._pyforest_update_imports_cell) { window._pyforest_update_imports_cell('import pandas as pd\\nimport seaborn as sns\\nimport matplotlib.pyplot as plt'); }\n",
       "    "
      ],
      "text/plain": [
       "<IPython.core.display.Javascript object>"
      ]
     },
     "metadata": {},
     "output_type": "display_data"
    },
    {
     "data": {
      "application/javascript": [
       "\n",
       "        if (window._pyforest_update_imports_cell) { window._pyforest_update_imports_cell('import pandas as pd\\nimport seaborn as sns\\nimport matplotlib.pyplot as plt'); }\n",
       "    "
      ],
      "text/plain": [
       "<IPython.core.display.Javascript object>"
      ]
     },
     "metadata": {},
     "output_type": "display_data"
    },
    {
     "data": {
      "application/javascript": [
       "\n",
       "        if (window._pyforest_update_imports_cell) { window._pyforest_update_imports_cell('import pandas as pd\\nimport seaborn as sns\\nimport matplotlib.pyplot as plt'); }\n",
       "    "
      ],
      "text/plain": [
       "<IPython.core.display.Javascript object>"
      ]
     },
     "metadata": {},
     "output_type": "display_data"
    },
    {
     "data": {
      "application/javascript": [
       "\n",
       "        if (window._pyforest_update_imports_cell) { window._pyforest_update_imports_cell('import pandas as pd\\nimport seaborn as sns\\nimport matplotlib.pyplot as plt'); }\n",
       "    "
      ],
      "text/plain": [
       "<IPython.core.display.Javascript object>"
      ]
     },
     "metadata": {},
     "output_type": "display_data"
    },
    {
     "data": {
      "application/javascript": [
       "\n",
       "        if (window._pyforest_update_imports_cell) { window._pyforest_update_imports_cell('import pandas as pd\\nimport seaborn as sns\\nimport matplotlib.pyplot as plt'); }\n",
       "    "
      ],
      "text/plain": [
       "<IPython.core.display.Javascript object>"
      ]
     },
     "metadata": {},
     "output_type": "display_data"
    },
    {
     "data": {
      "application/javascript": [
       "\n",
       "        if (window._pyforest_update_imports_cell) { window._pyforest_update_imports_cell('import pandas as pd\\nimport seaborn as sns\\nimport matplotlib.pyplot as plt'); }\n",
       "    "
      ],
      "text/plain": [
       "<IPython.core.display.Javascript object>"
      ]
     },
     "metadata": {},
     "output_type": "display_data"
    },
    {
     "data": {
      "image/png": "[encoded data removed]",
      "text/plain": [
       "<Figure size 2500x1500 with 9 Axes>"
      ]
     },
     "metadata": {},
     "output_type": "display_data"
    }
   ],
   "source": [
    "l = ['Price', 'Total_Area', 'Price_per_SQFT', 'Baths',\n",
    "       'Balcony', 'BHK', 'BH', 'RK', 'R']\n",
    "box_plot(df4,l)"
   ]
  },
  {
   "cell_type": "code",
   "execution_count": 28,
   "id": "bead0bed",
   "metadata": {},
   "outputs": [
    {
     "data": {
      "text/html": [
       "<div>\n",
       "<style scoped>\n",
       "    .dataframe tbody tr th:only-of-type {\n",
       "        vertical-align: middle;\n",
       "    }\n",
       "\n",
       "    .dataframe tbody tr th {\n",
       "        vertical-align: top;\n",
       "    }\n",
       "\n",
       "    .dataframe thead th {\n",
       "        text-align: right;\n",
       "    }\n",
       "</style>\n",
       "<table border=\"1\" class=\"dataframe\">\n",
       "  <thead>\n",
       "    <tr style=\"text-align: right;\">\n",
       "      <th></th>\n",
       "      <th>Type</th>\n",
       "      <th>Price</th>\n",
       "      <th>City</th>\n",
       "      <th>Total_Area</th>\n",
       "      <th>Price_per_SQFT</th>\n",
       "      <th>Baths</th>\n",
       "      <th>Balcony</th>\n",
       "      <th>BHK</th>\n",
       "      <th>BH</th>\n",
       "      <th>RK</th>\n",
       "      <th>R</th>\n",
       "    </tr>\n",
       "  </thead>\n",
       "  <tbody>\n",
       "    <tr>\n",
       "      <th>2</th>\n",
       "      <td>Flat</td>\n",
       "      <td>100.0</td>\n",
       "      <td>Chennai</td>\n",
       "      <td>1320</td>\n",
       "      <td>7575.76</td>\n",
       "      <td>3</td>\n",
       "      <td>0</td>\n",
       "      <td>3.0</td>\n",
       "      <td>0.0</td>\n",
       "      <td>0.0</td>\n",
       "      <td>0.0</td>\n",
       "    </tr>\n",
       "  </tbody>\n",
       "</table>\n",
       "</div>"
      ],
      "text/plain": [
       "    Type  Price     City  Total_Area  Price_per_SQFT  Baths  Balcony  BHK  \\\n",
       "2  Flat   100.0  Chennai        1320         7575.76      3        0  3.0   \n",
       "\n",
       "    BH   RK    R  \n",
       "2  0.0  0.0  0.0  "
      ]
     },
     "execution_count": 28,
     "metadata": {},
     "output_type": "execute_result"
    }
   ],
   "source": [
    "df4.head(1)"
   ]
  },
  {
   "cell_type": "code",
   "execution_count": 29,
   "id": "79cd453a",
   "metadata": {},
   "outputs": [
    {
     "data": {
      "application/javascript": [
       "\n",
       "        if (window._pyforest_update_imports_cell) { window._pyforest_update_imports_cell('import pandas as pd\\nimport seaborn as sns\\nimport matplotlib.pyplot as plt'); }\n",
       "    "
      ],
      "text/plain": [
       "<IPython.core.display.Javascript object>"
      ]
     },
     "metadata": {},
     "output_type": "display_data"
    },
    {
     "data": {
      "application/javascript": [
       "\n",
       "        if (window._pyforest_update_imports_cell) { window._pyforest_update_imports_cell('import pandas as pd\\nimport seaborn as sns\\nimport matplotlib.pyplot as plt'); }\n",
       "    "
      ],
      "text/plain": [
       "<IPython.core.display.Javascript object>"
      ]
     },
     "metadata": {},
     "output_type": "display_data"
    },
    {
     "data": {
      "application/javascript": [
       "\n",
       "        if (window._pyforest_update_imports_cell) { window._pyforest_update_imports_cell('import pandas as pd\\nimport seaborn as sns\\nimport matplotlib.pyplot as plt'); }\n",
       "    "
      ],
      "text/plain": [
       "<IPython.core.display.Javascript object>"
      ]
     },
     "metadata": {},
     "output_type": "display_data"
    },
    {
     "data": {
      "text/html": [
       "<div>\n",
       "<style scoped>\n",
       "    .dataframe tbody tr th:only-of-type {\n",
       "        vertical-align: middle;\n",
       "    }\n",
       "\n",
       "    .dataframe tbody tr th {\n",
       "        vertical-align: top;\n",
       "    }\n",
       "\n",
       "    .dataframe thead th {\n",
       "        text-align: right;\n",
       "    }\n",
       "</style>\n",
       "<table border=\"1\" class=\"dataframe\">\n",
       "  <thead>\n",
       "    <tr style=\"text-align: right;\">\n",
       "      <th></th>\n",
       "      <th>Price</th>\n",
       "      <th>Total_Area</th>\n",
       "      <th>Baths</th>\n",
       "      <th>Balcony</th>\n",
       "      <th>BHK</th>\n",
       "      <th>BH</th>\n",
       "      <th>RK</th>\n",
       "      <th>R</th>\n",
       "      <th>Chennai</th>\n",
       "      <th>Hyderabad</th>\n",
       "      <th>Kolkata</th>\n",
       "      <th>Mumbai</th>\n",
       "      <th>New Delhi</th>\n",
       "      <th>Pune</th>\n",
       "      <th>Independent House</th>\n",
       "      <th>Studio Flat</th>\n",
       "      <th>Studio Independent</th>\n",
       "      <th>Villa</th>\n",
       "    </tr>\n",
       "  </thead>\n",
       "  <tbody>\n",
       "    <tr>\n",
       "      <th>2</th>\n",
       "      <td>100.00</td>\n",
       "      <td>1320</td>\n",
       "      <td>3</td>\n",
       "      <td>0</td>\n",
       "      <td>3.0</td>\n",
       "      <td>0.0</td>\n",
       "      <td>0.0</td>\n",
       "      <td>0.0</td>\n",
       "      <td>1</td>\n",
       "      <td>0</td>\n",
       "      <td>0</td>\n",
       "      <td>0</td>\n",
       "      <td>0</td>\n",
       "      <td>0</td>\n",
       "      <td>0</td>\n",
       "      <td>0</td>\n",
       "      <td>0</td>\n",
       "      <td>0</td>\n",
       "    </tr>\n",
       "    <tr>\n",
       "      <th>4</th>\n",
       "      <td>48.00</td>\n",
       "      <td>960</td>\n",
       "      <td>3</td>\n",
       "      <td>1</td>\n",
       "      <td>2.0</td>\n",
       "      <td>0.0</td>\n",
       "      <td>0.0</td>\n",
       "      <td>0.0</td>\n",
       "      <td>1</td>\n",
       "      <td>0</td>\n",
       "      <td>0</td>\n",
       "      <td>0</td>\n",
       "      <td>0</td>\n",
       "      <td>0</td>\n",
       "      <td>0</td>\n",
       "      <td>0</td>\n",
       "      <td>0</td>\n",
       "      <td>0</td>\n",
       "    </tr>\n",
       "    <tr>\n",
       "      <th>5</th>\n",
       "      <td>40.00</td>\n",
       "      <td>940</td>\n",
       "      <td>3</td>\n",
       "      <td>0</td>\n",
       "      <td>2.0</td>\n",
       "      <td>0.0</td>\n",
       "      <td>0.0</td>\n",
       "      <td>0.0</td>\n",
       "      <td>1</td>\n",
       "      <td>0</td>\n",
       "      <td>0</td>\n",
       "      <td>0</td>\n",
       "      <td>0</td>\n",
       "      <td>0</td>\n",
       "      <td>0</td>\n",
       "      <td>0</td>\n",
       "      <td>0</td>\n",
       "      <td>0</td>\n",
       "    </tr>\n",
       "    <tr>\n",
       "      <th>6</th>\n",
       "      <td>60.00</td>\n",
       "      <td>880</td>\n",
       "      <td>3</td>\n",
       "      <td>1</td>\n",
       "      <td>2.0</td>\n",
       "      <td>0.0</td>\n",
       "      <td>0.0</td>\n",
       "      <td>0.0</td>\n",
       "      <td>1</td>\n",
       "      <td>0</td>\n",
       "      <td>0</td>\n",
       "      <td>0</td>\n",
       "      <td>0</td>\n",
       "      <td>0</td>\n",
       "      <td>0</td>\n",
       "      <td>0</td>\n",
       "      <td>0</td>\n",
       "      <td>0</td>\n",
       "    </tr>\n",
       "    <tr>\n",
       "      <th>7</th>\n",
       "      <td>72.35</td>\n",
       "      <td>1700</td>\n",
       "      <td>3</td>\n",
       "      <td>1</td>\n",
       "      <td>3.0</td>\n",
       "      <td>0.0</td>\n",
       "      <td>0.0</td>\n",
       "      <td>0.0</td>\n",
       "      <td>1</td>\n",
       "      <td>0</td>\n",
       "      <td>0</td>\n",
       "      <td>0</td>\n",
       "      <td>0</td>\n",
       "      <td>0</td>\n",
       "      <td>1</td>\n",
       "      <td>0</td>\n",
       "      <td>0</td>\n",
       "      <td>0</td>\n",
       "    </tr>\n",
       "    <tr>\n",
       "      <th>...</th>\n",
       "      <td>...</td>\n",
       "      <td>...</td>\n",
       "      <td>...</td>\n",
       "      <td>...</td>\n",
       "      <td>...</td>\n",
       "      <td>...</td>\n",
       "      <td>...</td>\n",
       "      <td>...</td>\n",
       "      <td>...</td>\n",
       "      <td>...</td>\n",
       "      <td>...</td>\n",
       "      <td>...</td>\n",
       "      <td>...</td>\n",
       "      <td>...</td>\n",
       "      <td>...</td>\n",
       "      <td>...</td>\n",
       "      <td>...</td>\n",
       "      <td>...</td>\n",
       "    </tr>\n",
       "    <tr>\n",
       "      <th>14521</th>\n",
       "      <td>9.00</td>\n",
       "      <td>200</td>\n",
       "      <td>1</td>\n",
       "      <td>0</td>\n",
       "      <td>1.0</td>\n",
       "      <td>0.0</td>\n",
       "      <td>0.0</td>\n",
       "      <td>0.0</td>\n",
       "      <td>0</td>\n",
       "      <td>0</td>\n",
       "      <td>0</td>\n",
       "      <td>0</td>\n",
       "      <td>1</td>\n",
       "      <td>0</td>\n",
       "      <td>0</td>\n",
       "      <td>0</td>\n",
       "      <td>0</td>\n",
       "      <td>0</td>\n",
       "    </tr>\n",
       "    <tr>\n",
       "      <th>14523</th>\n",
       "      <td>40.00</td>\n",
       "      <td>1053</td>\n",
       "      <td>3</td>\n",
       "      <td>1</td>\n",
       "      <td>2.0</td>\n",
       "      <td>0.0</td>\n",
       "      <td>0.0</td>\n",
       "      <td>0.0</td>\n",
       "      <td>0</td>\n",
       "      <td>0</td>\n",
       "      <td>0</td>\n",
       "      <td>0</td>\n",
       "      <td>1</td>\n",
       "      <td>0</td>\n",
       "      <td>0</td>\n",
       "      <td>0</td>\n",
       "      <td>0</td>\n",
       "      <td>0</td>\n",
       "    </tr>\n",
       "    <tr>\n",
       "      <th>14524</th>\n",
       "      <td>14.00</td>\n",
       "      <td>472</td>\n",
       "      <td>2</td>\n",
       "      <td>1</td>\n",
       "      <td>1.0</td>\n",
       "      <td>0.0</td>\n",
       "      <td>0.0</td>\n",
       "      <td>0.0</td>\n",
       "      <td>0</td>\n",
       "      <td>0</td>\n",
       "      <td>0</td>\n",
       "      <td>0</td>\n",
       "      <td>1</td>\n",
       "      <td>0</td>\n",
       "      <td>1</td>\n",
       "      <td>0</td>\n",
       "      <td>0</td>\n",
       "      <td>0</td>\n",
       "    </tr>\n",
       "    <tr>\n",
       "      <th>14525</th>\n",
       "      <td>30.00</td>\n",
       "      <td>378</td>\n",
       "      <td>1</td>\n",
       "      <td>1</td>\n",
       "      <td>1.0</td>\n",
       "      <td>0.0</td>\n",
       "      <td>0.0</td>\n",
       "      <td>0.0</td>\n",
       "      <td>0</td>\n",
       "      <td>0</td>\n",
       "      <td>0</td>\n",
       "      <td>0</td>\n",
       "      <td>1</td>\n",
       "      <td>0</td>\n",
       "      <td>0</td>\n",
       "      <td>0</td>\n",
       "      <td>0</td>\n",
       "      <td>0</td>\n",
       "    </tr>\n",
       "    <tr>\n",
       "      <th>14526</th>\n",
       "      <td>60.00</td>\n",
       "      <td>700</td>\n",
       "      <td>2</td>\n",
       "      <td>1</td>\n",
       "      <td>3.0</td>\n",
       "      <td>0.0</td>\n",
       "      <td>0.0</td>\n",
       "      <td>0.0</td>\n",
       "      <td>0</td>\n",
       "      <td>0</td>\n",
       "      <td>0</td>\n",
       "      <td>0</td>\n",
       "      <td>1</td>\n",
       "      <td>0</td>\n",
       "      <td>0</td>\n",
       "      <td>0</td>\n",
       "      <td>0</td>\n",
       "      <td>0</td>\n",
       "    </tr>\n",
       "  </tbody>\n",
       "</table>\n",
       "<p>9798 rows × 18 columns</p>\n",
       "</div>"
      ],
      "text/plain": [
       "        Price  Total_Area  Baths  Balcony  BHK   BH   RK    R  Chennai  \\\n",
       "2      100.00        1320      3        0  3.0  0.0  0.0  0.0        1   \n",
       "4       48.00         960      3        1  2.0  0.0  0.0  0.0        1   \n",
       "5       40.00         940      3        0  2.0  0.0  0.0  0.0        1   \n",
       "6       60.00         880      3        1  2.0  0.0  0.0  0.0        1   \n",
       "7       72.35        1700      3        1  3.0  0.0  0.0  0.0        1   \n",
       "...       ...         ...    ...      ...  ...  ...  ...  ...      ...   \n",
       "14521    9.00         200      1        0  1.0  0.0  0.0  0.0        0   \n",
       "14523   40.00        1053      3        1  2.0  0.0  0.0  0.0        0   \n",
       "14524   14.00         472      2        1  1.0  0.0  0.0  0.0        0   \n",
       "14525   30.00         378      1        1  1.0  0.0  0.0  0.0        0   \n",
       "14526   60.00         700      2        1  3.0  0.0  0.0  0.0        0   \n",
       "\n",
       "       Hyderabad  Kolkata  Mumbai  New Delhi  Pune  Independent House  \\\n",
       "2              0        0       0          0     0                  0   \n",
       "4              0        0       0          0     0                  0   \n",
       "5              0        0       0          0     0                  0   \n",
       "6              0        0       0          0     0                  0   \n",
       "7              0        0       0          0     0                  1   \n",
       "...          ...      ...     ...        ...   ...                ...   \n",
       "14521          0        0       0          1     0                  0   \n",
       "14523          0        0       0          1     0                  0   \n",
       "14524          0        0       0          1     0                  1   \n",
       "14525          0        0       0          1     0                  0   \n",
       "14526          0        0       0          1     0                  0   \n",
       "\n",
       "       Studio Flat  Studio Independent  Villa   \n",
       "2                0                   0       0  \n",
       "4                0                   0       0  \n",
       "5                0                   0       0  \n",
       "6                0                   0       0  \n",
       "7                0                   0       0  \n",
       "...            ...                 ...     ...  \n",
       "14521            0                   0       0  \n",
       "14523            0                   0       0  \n",
       "14524            0                   0       0  \n",
       "14525            0                   0       0  \n",
       "14526            0                   0       0  \n",
       "\n",
       "[9798 rows x 18 columns]"
      ]
     },
     "execution_count": 29,
     "metadata": {},
     "output_type": "execute_result"
    }
   ],
   "source": [
    "d1 = pd.get_dummies(df4['City'], drop_first = True )\n",
    "d2 = pd.get_dummies(df4['Type'], drop_first = True)\n",
    "df5 = pd.concat([df4.drop(['Type','City'],axis = 1),d1,d2],axis = 1)\n",
    "df5.drop('Price_per_SQFT',axis = 1,inplace= True)\n",
    "x = df5.drop('Price',axis = 1)\n",
    "y = df5['Price']\n",
    "\n",
    "df5"
   ]
  },
  {
   "cell_type": "code",
   "execution_count": 30,
   "id": "2358fc15",
   "metadata": {},
   "outputs": [
    {
     "data": {
      "text/html": [
       "<style>#sk-container-id-2 {color: black;background-color: white;}#sk-container-id-2 pre{padding: 0;}#sk-container-id-2 div.sk-toggleable {background-color: white;}#sk-container-id-2 label.sk-toggleable__label {cursor: pointer;display: block;width: 100%;margin-bottom: 0;padding: 0.3em;box-sizing: border-box;text-align: center;}#sk-container-id-2 label.sk-toggleable__label-arrow:before {content: \"▸\";float: left;margin-right: 0.25em;color: #696969;}#sk-container-id-2 label.sk-toggleable__label-arrow:hover:before {color: black;}#sk-container-id-2 div.sk-estimator:hover label.sk-toggleable__label-arrow:before {color: black;}#sk-container-id-2 div.sk-toggleable__content {max-height: 0;max-width: 0;overflow: hidden;text-align: left;background-color: #f0f8ff;}#sk-container-id-2 div.sk-toggleable__content pre {margin: 0.2em;color: black;border-radius: 0.25em;background-color: #f0f8ff;}#sk-container-id-2 input.sk-toggleable__control:checked~div.sk-toggleable__content {max-height: 200px;max-width: 100%;overflow: auto;}#sk-container-id-2 input.sk-toggleable__control:checked~label.sk-toggleable__label-arrow:before {content: \"▾\";}#sk-container-id-2 div.sk-estimator input.sk-toggleable__control:checked~label.sk-toggleable__label {background-color: #d4ebff;}#sk-container-id-2 div.sk-label input.sk-toggleable__control:checked~label.sk-toggleable__label {background-color: #d4ebff;}#sk-container-id-2 input.sk-hidden--visually {border: 0;clip: rect(1px 1px 1px 1px);clip: rect(1px, 1px, 1px, 1px);height: 1px;margin: -1px;overflow: hidden;padding: 0;position: absolute;width: 1px;}#sk-container-id-2 div.sk-estimator {font-family: monospace;background-color: #f0f8ff;border: 1px dotted black;border-radius: 0.25em;box-sizing: border-box;margin-bottom: 0.5em;}#sk-container-id-2 div.sk-estimator:hover {background-color: #d4ebff;}#sk-container-id-2 div.sk-parallel-item::after {content: \"\";width: 100%;border-bottom: 1px solid gray;flex-grow: 1;}#sk-container-id-2 div.sk-label:hover label.sk-toggleable__label {background-color: #d4ebff;}#sk-container-id-2 div.sk-serial::before {content: \"\";position: absolute;border-left: 1px solid gray;box-sizing: border-box;top: 0;bottom: 0;left: 50%;z-index: 0;}#sk-container-id-2 div.sk-serial {display: flex;flex-direction: column;align-items: center;background-color: white;padding-right: 0.2em;padding-left: 0.2em;position: relative;}#sk-container-id-2 div.sk-item {position: relative;z-index: 1;}#sk-container-id-2 div.sk-parallel {display: flex;align-items: stretch;justify-content: center;background-color: white;position: relative;}#sk-container-id-2 div.sk-item::before, #sk-container-id-2 div.sk-parallel-item::before {content: \"\";position: absolute;border-left: 1px solid gray;box-sizing: border-box;top: 0;bottom: 0;left: 50%;z-index: -1;}#sk-container-id-2 div.sk-parallel-item {display: flex;flex-direction: column;z-index: 1;position: relative;background-color: white;}#sk-container-id-2 div.sk-parallel-item:first-child::after {align-self: flex-end;width: 50%;}#sk-container-id-2 div.sk-parallel-item:last-child::after {align-self: flex-start;width: 50%;}#sk-container-id-2 div.sk-parallel-item:only-child::after {width: 0;}#sk-container-id-2 div.sk-dashed-wrapped {border: 1px dashed gray;margin: 0 0.4em 0.5em 0.4em;box-sizing: border-box;padding-bottom: 0.4em;background-color: white;}#sk-container-id-2 div.sk-label label {font-family: monospace;font-weight: bold;display: inline-block;line-height: 1.2em;}#sk-container-id-2 div.sk-label-container {text-align: center;}#sk-container-id-2 div.sk-container {/* jupyter's `normalize.less` sets `[hidden] { display: none; }` but bootstrap.min.css set `[hidden] { display: none !important; }` so we also need the `!important` here to be able to override the default hidden behavior on the sphinx rendered scikit-learn.org. See: https://github.com/scikit-learn/scikit-learn/issues/21755 */display: inline-block !important;position: relative;}#sk-container-id-2 div.sk-text-repr-fallback {display: none;}</style><div id=\"sk-container-id-2\" class=\"sk-top-container\"><div class=\"sk-text-repr-fallback\"><pre>LinearRegression()</pre><b>In a Jupyter environment, please rerun this cell to show the HTML representation or trust the notebook. <br />On GitHub, the HTML representation is unable to render, please try loading this page with nbviewer.org.</b></div><div class=\"sk-container\" hidden><div class=\"sk-item\"><div class=\"sk-estimator sk-toggleable\"><input class=\"sk-toggleable__control sk-hidden--visually\" id=\"sk-estimator-id-2\" type=\"checkbox\" checked><label for=\"sk-estimator-id-2\" class=\"sk-toggleable__label sk-toggleable__label-arrow\">LinearRegression</label><div class=\"sk-toggleable__content\"><pre>LinearRegression()</pre></div></div></div></div></div>"
      ],
      "text/plain": [
       "LinearRegression()"
      ]
     },
     "execution_count": 30,
     "metadata": {},
     "output_type": "execute_result"
    }
   ],
   "source": [
    "X_train,X_test,Y_train,Y_test = train_test_split(x,y, test_size = 0.2)\n",
    "\n",
    "model.fit(X_train,Y_train)"
   ]
  },
  {
   "cell_type": "code",
   "execution_count": 31,
   "id": "5ec4a0de",
   "metadata": {},
   "outputs": [
    {
     "data": {
      "text/plain": [
       "(0.5394625894014944, 0.537019902975096)"
      ]
     },
     "execution_count": 31,
     "metadata": {},
     "output_type": "execute_result"
    }
   ],
   "source": [
    "model.score(X_test,Y_test),model.score(X_train,Y_train)"
   ]
  },
  {
   "cell_type": "markdown",
   "id": "37178805",
   "metadata": {},
   "source": [
    "# Again Cross validation"
   ]
  },
  {
   "cell_type": "code",
   "execution_count": 32,
   "id": "4a8a923d",
   "metadata": {},
   "outputs": [
    {
     "data": {
      "text/plain": [
       "array([0.51376442, 0.52819598, 0.5321823 , 0.54027211, 0.52417626,\n",
       "       0.52963404, 0.53263473, 0.54437431, 0.54497499, 0.53807809])"
      ]
     },
     "execution_count": 32,
     "metadata": {},
     "output_type": "execute_result"
    }
   ],
   "source": [
    "from sklearn.model_selection import ShuffleSplit # To create simillar random folds \n",
    "from sklearn.model_selection import cross_val_score\n",
    "c = ShuffleSplit(n_splits = 10 , test_size = 0.2 , random_state= 0)\n",
    "cross_val_score(LinearRegression(),x,y , cv = c)"
   ]
  },
  {
   "cell_type": "markdown",
   "id": "8ed93a14",
   "metadata": {},
   "source": [
    "# Again Outliers removal"
   ]
  },
  {
   "cell_type": "code",
   "execution_count": 33,
   "id": "1a536fb4",
   "metadata": {},
   "outputs": [
    {
     "data": {
      "application/javascript": [
       "\n",
       "        if (window._pyforest_update_imports_cell) { window._pyforest_update_imports_cell('import pandas as pd\\nimport seaborn as sns\\nimport matplotlib.pyplot as plt'); }\n",
       "    "
      ],
      "text/plain": [
       "<IPython.core.display.Javascript object>"
      ]
     },
     "metadata": {},
     "output_type": "display_data"
    },
    {
     "data": {
      "application/javascript": [
       "\n",
       "        if (window._pyforest_update_imports_cell) { window._pyforest_update_imports_cell('import pandas as pd\\nimport seaborn as sns\\nimport matplotlib.pyplot as plt'); }\n",
       "    "
      ],
      "text/plain": [
       "<IPython.core.display.Javascript object>"
      ]
     },
     "metadata": {},
     "output_type": "display_data"
    },
    {
     "data": {
      "application/javascript": [
       "\n",
       "        if (window._pyforest_update_imports_cell) { window._pyforest_update_imports_cell('import pandas as pd\\nimport seaborn as sns\\nimport matplotlib.pyplot as plt'); }\n",
       "    "
      ],
      "text/plain": [
       "<IPython.core.display.Javascript object>"
      ]
     },
     "metadata": {},
     "output_type": "display_data"
    },
    {
     "data": {
      "application/javascript": [
       "\n",
       "        if (window._pyforest_update_imports_cell) { window._pyforest_update_imports_cell('import pandas as pd\\nimport seaborn as sns\\nimport matplotlib.pyplot as plt'); }\n",
       "    "
      ],
      "text/plain": [
       "<IPython.core.display.Javascript object>"
      ]
     },
     "metadata": {},
     "output_type": "display_data"
    },
    {
     "data": {
      "application/javascript": [
       "\n",
       "        if (window._pyforest_update_imports_cell) { window._pyforest_update_imports_cell('import pandas as pd\\nimport seaborn as sns\\nimport matplotlib.pyplot as plt'); }\n",
       "    "
      ],
      "text/plain": [
       "<IPython.core.display.Javascript object>"
      ]
     },
     "metadata": {},
     "output_type": "display_data"
    },
    {
     "data": {
      "application/javascript": [
       "\n",
       "        if (window._pyforest_update_imports_cell) { window._pyforest_update_imports_cell('import pandas as pd\\nimport seaborn as sns\\nimport matplotlib.pyplot as plt'); }\n",
       "    "
      ],
      "text/plain": [
       "<IPython.core.display.Javascript object>"
      ]
     },
     "metadata": {},
     "output_type": "display_data"
    },
    {
     "data": {
      "application/javascript": [
       "\n",
       "        if (window._pyforest_update_imports_cell) { window._pyforest_update_imports_cell('import pandas as pd\\nimport seaborn as sns\\nimport matplotlib.pyplot as plt'); }\n",
       "    "
      ],
      "text/plain": [
       "<IPython.core.display.Javascript object>"
      ]
     },
     "metadata": {},
     "output_type": "display_data"
    },
    {
     "data": {
      "application/javascript": [
       "\n",
       "        if (window._pyforest_update_imports_cell) { window._pyforest_update_imports_cell('import pandas as pd\\nimport seaborn as sns\\nimport matplotlib.pyplot as plt'); }\n",
       "    "
      ],
      "text/plain": [
       "<IPython.core.display.Javascript object>"
      ]
     },
     "metadata": {},
     "output_type": "display_data"
    },
    {
     "data": {
      "application/javascript": [
       "\n",
       "        if (window._pyforest_update_imports_cell) { window._pyforest_update_imports_cell('import pandas as pd\\nimport seaborn as sns\\nimport matplotlib.pyplot as plt'); }\n",
       "    "
      ],
      "text/plain": [
       "<IPython.core.display.Javascript object>"
      ]
     },
     "metadata": {},
     "output_type": "display_data"
    },
    {
     "data": {
      "application/javascript": [
       "\n",
       "        if (window._pyforest_update_imports_cell) { window._pyforest_update_imports_cell('import pandas as pd\\nimport seaborn as sns\\nimport matplotlib.pyplot as plt'); }\n",
       "    "
      ],
      "text/plain": [
       "<IPython.core.display.Javascript object>"
      ]
     },
     "metadata": {},
     "output_type": "display_data"
    },
    {
     "data": {
      "application/javascript": [
       "\n",
       "        if (window._pyforest_update_imports_cell) { window._pyforest_update_imports_cell('import pandas as pd\\nimport seaborn as sns\\nimport matplotlib.pyplot as plt'); }\n",
       "    "
      ],
      "text/plain": [
       "<IPython.core.display.Javascript object>"
      ]
     },
     "metadata": {},
     "output_type": "display_data"
    },
    {
     "data": {
      "application/javascript": [
       "\n",
       "        if (window._pyforest_update_imports_cell) { window._pyforest_update_imports_cell('import pandas as pd\\nimport seaborn as sns\\nimport matplotlib.pyplot as plt'); }\n",
       "    "
      ],
      "text/plain": [
       "<IPython.core.display.Javascript object>"
      ]
     },
     "metadata": {},
     "output_type": "display_data"
    },
    {
     "data": {
      "application/javascript": [
       "\n",
       "        if (window._pyforest_update_imports_cell) { window._pyforest_update_imports_cell('import pandas as pd\\nimport seaborn as sns\\nimport matplotlib.pyplot as plt'); }\n",
       "    "
      ],
      "text/plain": [
       "<IPython.core.display.Javascript object>"
      ]
     },
     "metadata": {},
     "output_type": "display_data"
    },
    {
     "data": {
      "application/javascript": [
       "\n",
       "        if (window._pyforest_update_imports_cell) { window._pyforest_update_imports_cell('import pandas as pd\\nimport seaborn as sns\\nimport matplotlib.pyplot as plt'); }\n",
       "    "
      ],
      "text/plain": [
       "<IPython.core.display.Javascript object>"
      ]
     },
     "metadata": {},
     "output_type": "display_data"
    },
    {
     "data": {
      "application/javascript": [
       "\n",
       "        if (window._pyforest_update_imports_cell) { window._pyforest_update_imports_cell('import pandas as pd\\nimport seaborn as sns\\nimport matplotlib.pyplot as plt'); }\n",
       "    "
      ],
      "text/plain": [
       "<IPython.core.display.Javascript object>"
      ]
     },
     "metadata": {},
     "output_type": "display_data"
    },
    {
     "data": {
      "application/javascript": [
       "\n",
       "        if (window._pyforest_update_imports_cell) { window._pyforest_update_imports_cell('import pandas as pd\\nimport seaborn as sns\\nimport matplotlib.pyplot as plt'); }\n",
       "    "
      ],
      "text/plain": [
       "<IPython.core.display.Javascript object>"
      ]
     },
     "metadata": {},
     "output_type": "display_data"
    },
    {
     "data": {
      "application/javascript": [
       "\n",
       "        if (window._pyforest_update_imports_cell) { window._pyforest_update_imports_cell('import pandas as pd\\nimport seaborn as sns\\nimport matplotlib.pyplot as plt'); }\n",
       "    "
      ],
      "text/plain": [
       "<IPython.core.display.Javascript object>"
      ]
     },
     "metadata": {},
     "output_type": "display_data"
    },
    {
     "data": {
      "application/javascript": [
       "\n",
       "        if (window._pyforest_update_imports_cell) { window._pyforest_update_imports_cell('import pandas as pd\\nimport seaborn as sns\\nimport matplotlib.pyplot as plt'); }\n",
       "    "
      ],
      "text/plain": [
       "<IPython.core.display.Javascript object>"
      ]
     },
     "metadata": {},
     "output_type": "display_data"
    },
    {
     "data": {
      "application/javascript": [
       "\n",
       "        if (window._pyforest_update_imports_cell) { window._pyforest_update_imports_cell('import pandas as pd\\nimport seaborn as sns\\nimport matplotlib.pyplot as plt'); }\n",
       "    "
      ],
      "text/plain": [
       "<IPython.core.display.Javascript object>"
      ]
     },
     "metadata": {},
     "output_type": "display_data"
    },
    {
     "data": {
      "image/png": "[encoded data removed]",
      "text/plain": [
       "<Figure size 2500x1500 with 9 Axes>"
      ]
     },
     "metadata": {},
     "output_type": "display_data"
    }
   ],
   "source": [
    "box_plot(df4,l)"
   ]
  },
  {
   "cell_type": "code",
   "execution_count": 34,
   "id": "32f7eaf7",
   "metadata": {},
   "outputs": [
    {
     "data": {
      "text/plain": [
       "Price             0.581751\n",
       "Total_Area        0.622576\n",
       "Price_per_SQFT    2.398449\n",
       "Baths             0.836905\n",
       "Balcony           0.000000\n",
       "BHK               0.000000\n",
       "BH                0.040825\n",
       "RK                5.337824\n",
       "R                 0.040825\n",
       "dtype: float64"
      ]
     },
     "execution_count": 34,
     "metadata": {},
     "output_type": "execute_result"
    }
   ],
   "source": [
    "out_check(df4,l)"
   ]
  },
  {
   "cell_type": "code",
   "execution_count": 35,
   "id": "0f07aacd",
   "metadata": {},
   "outputs": [
    {
     "name": "stdout",
     "output_type": "stream",
     "text": [
      "Q1 = 4210.53 | Q3 = 6923.08 | IQR =  2712.55\n",
      "Upper fence = 10991.905\n",
      "Lower fence = 141.70499999999947\n",
      "Nos of Records Deleted = 235\n",
      "% of Records Deleted = 2.4 \n",
      "\n",
      "Q1 = 30.0 | Q3 = 69.0 | IQR =  39.0\n",
      "Upper fence = 127.5\n",
      "Lower fence = -28.5\n",
      "Nos of Records Deleted = 116\n",
      "% of Records Deleted = 1.21 \n",
      "\n",
      "Q1 = 620.0 | Q3 = 1159.0 | IQR =  539.0\n",
      "Upper fence = 1967.5\n",
      "Lower fence = -188.5\n",
      "Nos of Records Deleted = 59\n",
      "% of Records Deleted = 0.62 \n",
      "\n",
      "Q1 = 1.0 | Q3 = 2.0 | IQR =  1.0\n",
      "Upper fence = 3.5\n",
      "Lower fence = -0.5\n",
      "Nos of Records Deleted = 0\n",
      "% of Records Deleted = 0.0 \n",
      "\n"
     ]
    },
    {
     "data": {
      "text/html": [
       "<div>\n",
       "<style scoped>\n",
       "    .dataframe tbody tr th:only-of-type {\n",
       "        vertical-align: middle;\n",
       "    }\n",
       "\n",
       "    .dataframe tbody tr th {\n",
       "        vertical-align: top;\n",
       "    }\n",
       "\n",
       "    .dataframe thead th {\n",
       "        text-align: right;\n",
       "    }\n",
       "</style>\n",
       "<table border=\"1\" class=\"dataframe\">\n",
       "  <thead>\n",
       "    <tr style=\"text-align: right;\">\n",
       "      <th></th>\n",
       "      <th>Type</th>\n",
       "      <th>Price</th>\n",
       "      <th>City</th>\n",
       "      <th>Total_Area</th>\n",
       "      <th>Price_per_SQFT</th>\n",
       "      <th>Baths</th>\n",
       "      <th>Balcony</th>\n",
       "      <th>BHK</th>\n",
       "      <th>BH</th>\n",
       "      <th>RK</th>\n",
       "      <th>R</th>\n",
       "    </tr>\n",
       "  </thead>\n",
       "  <tbody>\n",
       "    <tr>\n",
       "      <th>2</th>\n",
       "      <td>Flat</td>\n",
       "      <td>100.00</td>\n",
       "      <td>Chennai</td>\n",
       "      <td>1320</td>\n",
       "      <td>7575.76</td>\n",
       "      <td>3</td>\n",
       "      <td>0</td>\n",
       "      <td>3.0</td>\n",
       "      <td>0.0</td>\n",
       "      <td>0.0</td>\n",
       "      <td>0.0</td>\n",
       "    </tr>\n",
       "    <tr>\n",
       "      <th>4</th>\n",
       "      <td>Flat</td>\n",
       "      <td>48.00</td>\n",
       "      <td>Chennai</td>\n",
       "      <td>960</td>\n",
       "      <td>5000.00</td>\n",
       "      <td>3</td>\n",
       "      <td>1</td>\n",
       "      <td>2.0</td>\n",
       "      <td>0.0</td>\n",
       "      <td>0.0</td>\n",
       "      <td>0.0</td>\n",
       "    </tr>\n",
       "    <tr>\n",
       "      <th>5</th>\n",
       "      <td>Flat</td>\n",
       "      <td>40.00</td>\n",
       "      <td>Chennai</td>\n",
       "      <td>940</td>\n",
       "      <td>4255.32</td>\n",
       "      <td>3</td>\n",
       "      <td>0</td>\n",
       "      <td>2.0</td>\n",
       "      <td>0.0</td>\n",
       "      <td>0.0</td>\n",
       "      <td>0.0</td>\n",
       "    </tr>\n",
       "    <tr>\n",
       "      <th>6</th>\n",
       "      <td>Flat</td>\n",
       "      <td>60.00</td>\n",
       "      <td>Chennai</td>\n",
       "      <td>880</td>\n",
       "      <td>6818.18</td>\n",
       "      <td>3</td>\n",
       "      <td>1</td>\n",
       "      <td>2.0</td>\n",
       "      <td>0.0</td>\n",
       "      <td>0.0</td>\n",
       "      <td>0.0</td>\n",
       "    </tr>\n",
       "    <tr>\n",
       "      <th>7</th>\n",
       "      <td>Independent House</td>\n",
       "      <td>72.35</td>\n",
       "      <td>Chennai</td>\n",
       "      <td>1700</td>\n",
       "      <td>4255.88</td>\n",
       "      <td>3</td>\n",
       "      <td>1</td>\n",
       "      <td>3.0</td>\n",
       "      <td>0.0</td>\n",
       "      <td>0.0</td>\n",
       "      <td>0.0</td>\n",
       "    </tr>\n",
       "    <tr>\n",
       "      <th>...</th>\n",
       "      <td>...</td>\n",
       "      <td>...</td>\n",
       "      <td>...</td>\n",
       "      <td>...</td>\n",
       "      <td>...</td>\n",
       "      <td>...</td>\n",
       "      <td>...</td>\n",
       "      <td>...</td>\n",
       "      <td>...</td>\n",
       "      <td>...</td>\n",
       "      <td>...</td>\n",
       "    </tr>\n",
       "    <tr>\n",
       "      <th>14521</th>\n",
       "      <td>Flat</td>\n",
       "      <td>9.00</td>\n",
       "      <td>New Delhi</td>\n",
       "      <td>200</td>\n",
       "      <td>4500.00</td>\n",
       "      <td>1</td>\n",
       "      <td>0</td>\n",
       "      <td>1.0</td>\n",
       "      <td>0.0</td>\n",
       "      <td>0.0</td>\n",
       "      <td>0.0</td>\n",
       "    </tr>\n",
       "    <tr>\n",
       "      <th>14523</th>\n",
       "      <td>Flat</td>\n",
       "      <td>40.00</td>\n",
       "      <td>New Delhi</td>\n",
       "      <td>1053</td>\n",
       "      <td>3798.67</td>\n",
       "      <td>3</td>\n",
       "      <td>1</td>\n",
       "      <td>2.0</td>\n",
       "      <td>0.0</td>\n",
       "      <td>0.0</td>\n",
       "      <td>0.0</td>\n",
       "    </tr>\n",
       "    <tr>\n",
       "      <th>14524</th>\n",
       "      <td>Independent House</td>\n",
       "      <td>14.00</td>\n",
       "      <td>New Delhi</td>\n",
       "      <td>472</td>\n",
       "      <td>2966.10</td>\n",
       "      <td>2</td>\n",
       "      <td>1</td>\n",
       "      <td>1.0</td>\n",
       "      <td>0.0</td>\n",
       "      <td>0.0</td>\n",
       "      <td>0.0</td>\n",
       "    </tr>\n",
       "    <tr>\n",
       "      <th>14525</th>\n",
       "      <td>Flat</td>\n",
       "      <td>30.00</td>\n",
       "      <td>New Delhi</td>\n",
       "      <td>378</td>\n",
       "      <td>7936.51</td>\n",
       "      <td>1</td>\n",
       "      <td>1</td>\n",
       "      <td>1.0</td>\n",
       "      <td>0.0</td>\n",
       "      <td>0.0</td>\n",
       "      <td>0.0</td>\n",
       "    </tr>\n",
       "    <tr>\n",
       "      <th>14526</th>\n",
       "      <td>Flat</td>\n",
       "      <td>60.00</td>\n",
       "      <td>New Delhi</td>\n",
       "      <td>700</td>\n",
       "      <td>8571.43</td>\n",
       "      <td>2</td>\n",
       "      <td>1</td>\n",
       "      <td>3.0</td>\n",
       "      <td>0.0</td>\n",
       "      <td>0.0</td>\n",
       "      <td>0.0</td>\n",
       "    </tr>\n",
       "  </tbody>\n",
       "</table>\n",
       "<p>9388 rows × 11 columns</p>\n",
       "</div>"
      ],
      "text/plain": [
       "                    Type   Price       City  Total_Area  Price_per_SQFT  \\\n",
       "2                  Flat   100.00    Chennai        1320         7575.76   \n",
       "4                  Flat    48.00    Chennai         960         5000.00   \n",
       "5                  Flat    40.00    Chennai         940         4255.32   \n",
       "6                  Flat    60.00    Chennai         880         6818.18   \n",
       "7      Independent House   72.35    Chennai        1700         4255.88   \n",
       "...                  ...     ...        ...         ...             ...   \n",
       "14521              Flat     9.00  New Delhi         200         4500.00   \n",
       "14523              Flat    40.00  New Delhi        1053         3798.67   \n",
       "14524  Independent House   14.00  New Delhi         472         2966.10   \n",
       "14525              Flat    30.00  New Delhi         378         7936.51   \n",
       "14526              Flat    60.00  New Delhi         700         8571.43   \n",
       "\n",
       "       Baths  Balcony  BHK   BH   RK    R  \n",
       "2          3        0  3.0  0.0  0.0  0.0  \n",
       "4          3        1  2.0  0.0  0.0  0.0  \n",
       "5          3        0  2.0  0.0  0.0  0.0  \n",
       "6          3        1  2.0  0.0  0.0  0.0  \n",
       "7          3        1  3.0  0.0  0.0  0.0  \n",
       "...      ...      ...  ...  ...  ...  ...  \n",
       "14521      1        0  1.0  0.0  0.0  0.0  \n",
       "14523      3        1  2.0  0.0  0.0  0.0  \n",
       "14524      2        1  1.0  0.0  0.0  0.0  \n",
       "14525      1        1  1.0  0.0  0.0  0.0  \n",
       "14526      2        1  3.0  0.0  0.0  0.0  \n",
       "\n",
       "[9388 rows x 11 columns]"
      ]
     },
     "execution_count": 35,
     "metadata": {},
     "output_type": "execute_result"
    }
   ],
   "source": [
    "ln = ['Price_per_SQFT','Price','Total_Area','RK']\n",
    "df6 = out_rem(df4,li)\n",
    "df6"
   ]
  },
  {
   "cell_type": "code",
   "execution_count": 36,
   "id": "a292519c",
   "metadata": {},
   "outputs": [
    {
     "data": {
      "application/javascript": [
       "\n",
       "        if (window._pyforest_update_imports_cell) { window._pyforest_update_imports_cell('import pandas as pd\\nimport seaborn as sns\\nimport matplotlib.pyplot as plt'); }\n",
       "    "
      ],
      "text/plain": [
       "<IPython.core.display.Javascript object>"
      ]
     },
     "metadata": {},
     "output_type": "display_data"
    },
    {
     "data": {
      "application/javascript": [
       "\n",
       "        if (window._pyforest_update_imports_cell) { window._pyforest_update_imports_cell('import pandas as pd\\nimport seaborn as sns\\nimport matplotlib.pyplot as plt'); }\n",
       "    "
      ],
      "text/plain": [
       "<IPython.core.display.Javascript object>"
      ]
     },
     "metadata": {},
     "output_type": "display_data"
    },
    {
     "data": {
      "application/javascript": [
       "\n",
       "        if (window._pyforest_update_imports_cell) { window._pyforest_update_imports_cell('import pandas as pd\\nimport seaborn as sns\\nimport matplotlib.pyplot as plt'); }\n",
       "    "
      ],
      "text/plain": [
       "<IPython.core.display.Javascript object>"
      ]
     },
     "metadata": {},
     "output_type": "display_data"
    },
    {
     "data": {
      "text/plain": [
       "(0.5435728243938727, 0.5747870119335424)"
      ]
     },
     "execution_count": 36,
     "metadata": {},
     "output_type": "execute_result"
    }
   ],
   "source": [
    "d1 = pd.get_dummies(df6['City'], drop_first = True )\n",
    "d2 = pd.get_dummies(df6['Type'], drop_first = True)\n",
    "df7 = pd.concat([df6.drop(['Type','City'],axis = 1),d1,d2],axis = 1)\n",
    "df7.drop('Price_per_SQFT',axis = 1,inplace= True)\n",
    "x = df7.drop('Price',axis = 1)\n",
    "y = df7['Price']\n",
    "\n",
    "X_train,X_test,Y_train,Y_test = train_test_split(x,y, test_size = 0.2)\n",
    "\n",
    "model.fit(X_train,Y_train)\n",
    "\n",
    "model.score(X_test,Y_test),model.score(X_train,Y_train)"
   ]
  },
  {
   "cell_type": "code",
   "execution_count": 37,
   "id": "7e9bdf04",
   "metadata": {},
   "outputs": [
    {
     "data": {
      "text/plain": [
       "(9388, 17)"
      ]
     },
     "execution_count": 37,
     "metadata": {},
     "output_type": "execute_result"
    }
   ],
   "source": [
    "x.shape"
   ]
  },
  {
   "cell_type": "code",
   "execution_count": 38,
   "id": "de30a72c",
   "metadata": {},
   "outputs": [
    {
     "data": {
      "text/html": [
       "<div>\n",
       "<style scoped>\n",
       "    .dataframe tbody tr th:only-of-type {\n",
       "        vertical-align: middle;\n",
       "    }\n",
       "\n",
       "    .dataframe tbody tr th {\n",
       "        vertical-align: top;\n",
       "    }\n",
       "\n",
       "    .dataframe thead th {\n",
       "        text-align: right;\n",
       "    }\n",
       "</style>\n",
       "<table border=\"1\" class=\"dataframe\">\n",
       "  <thead>\n",
       "    <tr style=\"text-align: right;\">\n",
       "      <th></th>\n",
       "      <th>Type</th>\n",
       "      <th>Price</th>\n",
       "      <th>City</th>\n",
       "      <th>Total_Area</th>\n",
       "      <th>Price_per_SQFT</th>\n",
       "      <th>Baths</th>\n",
       "      <th>Balcony</th>\n",
       "      <th>BHK</th>\n",
       "      <th>BH</th>\n",
       "      <th>RK</th>\n",
       "      <th>R</th>\n",
       "    </tr>\n",
       "  </thead>\n",
       "  <tbody>\n",
       "    <tr>\n",
       "      <th>2</th>\n",
       "      <td>Flat</td>\n",
       "      <td>100.00</td>\n",
       "      <td>Chennai</td>\n",
       "      <td>1320</td>\n",
       "      <td>7575.76</td>\n",
       "      <td>3</td>\n",
       "      <td>0</td>\n",
       "      <td>3.0</td>\n",
       "      <td>0.0</td>\n",
       "      <td>0.0</td>\n",
       "      <td>0.0</td>\n",
       "    </tr>\n",
       "    <tr>\n",
       "      <th>4</th>\n",
       "      <td>Flat</td>\n",
       "      <td>48.00</td>\n",
       "      <td>Chennai</td>\n",
       "      <td>960</td>\n",
       "      <td>5000.00</td>\n",
       "      <td>3</td>\n",
       "      <td>1</td>\n",
       "      <td>2.0</td>\n",
       "      <td>0.0</td>\n",
       "      <td>0.0</td>\n",
       "      <td>0.0</td>\n",
       "    </tr>\n",
       "    <tr>\n",
       "      <th>5</th>\n",
       "      <td>Flat</td>\n",
       "      <td>40.00</td>\n",
       "      <td>Chennai</td>\n",
       "      <td>940</td>\n",
       "      <td>4255.32</td>\n",
       "      <td>3</td>\n",
       "      <td>0</td>\n",
       "      <td>2.0</td>\n",
       "      <td>0.0</td>\n",
       "      <td>0.0</td>\n",
       "      <td>0.0</td>\n",
       "    </tr>\n",
       "    <tr>\n",
       "      <th>6</th>\n",
       "      <td>Flat</td>\n",
       "      <td>60.00</td>\n",
       "      <td>Chennai</td>\n",
       "      <td>880</td>\n",
       "      <td>6818.18</td>\n",
       "      <td>3</td>\n",
       "      <td>1</td>\n",
       "      <td>2.0</td>\n",
       "      <td>0.0</td>\n",
       "      <td>0.0</td>\n",
       "      <td>0.0</td>\n",
       "    </tr>\n",
       "    <tr>\n",
       "      <th>7</th>\n",
       "      <td>Independent House</td>\n",
       "      <td>72.35</td>\n",
       "      <td>Chennai</td>\n",
       "      <td>1700</td>\n",
       "      <td>4255.88</td>\n",
       "      <td>3</td>\n",
       "      <td>1</td>\n",
       "      <td>3.0</td>\n",
       "      <td>0.0</td>\n",
       "      <td>0.0</td>\n",
       "      <td>0.0</td>\n",
       "    </tr>\n",
       "    <tr>\n",
       "      <th>...</th>\n",
       "      <td>...</td>\n",
       "      <td>...</td>\n",
       "      <td>...</td>\n",
       "      <td>...</td>\n",
       "      <td>...</td>\n",
       "      <td>...</td>\n",
       "      <td>...</td>\n",
       "      <td>...</td>\n",
       "      <td>...</td>\n",
       "      <td>...</td>\n",
       "      <td>...</td>\n",
       "    </tr>\n",
       "    <tr>\n",
       "      <th>14521</th>\n",
       "      <td>Flat</td>\n",
       "      <td>9.00</td>\n",
       "      <td>New Delhi</td>\n",
       "      <td>200</td>\n",
       "      <td>4500.00</td>\n",
       "      <td>1</td>\n",
       "      <td>0</td>\n",
       "      <td>1.0</td>\n",
       "      <td>0.0</td>\n",
       "      <td>0.0</td>\n",
       "      <td>0.0</td>\n",
       "    </tr>\n",
       "    <tr>\n",
       "      <th>14523</th>\n",
       "      <td>Flat</td>\n",
       "      <td>40.00</td>\n",
       "      <td>New Delhi</td>\n",
       "      <td>1053</td>\n",
       "      <td>3798.67</td>\n",
       "      <td>3</td>\n",
       "      <td>1</td>\n",
       "      <td>2.0</td>\n",
       "      <td>0.0</td>\n",
       "      <td>0.0</td>\n",
       "      <td>0.0</td>\n",
       "    </tr>\n",
       "    <tr>\n",
       "      <th>14524</th>\n",
       "      <td>Independent House</td>\n",
       "      <td>14.00</td>\n",
       "      <td>New Delhi</td>\n",
       "      <td>472</td>\n",
       "      <td>2966.10</td>\n",
       "      <td>2</td>\n",
       "      <td>1</td>\n",
       "      <td>1.0</td>\n",
       "      <td>0.0</td>\n",
       "      <td>0.0</td>\n",
       "      <td>0.0</td>\n",
       "    </tr>\n",
       "    <tr>\n",
       "      <th>14525</th>\n",
       "      <td>Flat</td>\n",
       "      <td>30.00</td>\n",
       "      <td>New Delhi</td>\n",
       "      <td>378</td>\n",
       "      <td>7936.51</td>\n",
       "      <td>1</td>\n",
       "      <td>1</td>\n",
       "      <td>1.0</td>\n",
       "      <td>0.0</td>\n",
       "      <td>0.0</td>\n",
       "      <td>0.0</td>\n",
       "    </tr>\n",
       "    <tr>\n",
       "      <th>14526</th>\n",
       "      <td>Flat</td>\n",
       "      <td>60.00</td>\n",
       "      <td>New Delhi</td>\n",
       "      <td>700</td>\n",
       "      <td>8571.43</td>\n",
       "      <td>2</td>\n",
       "      <td>1</td>\n",
       "      <td>3.0</td>\n",
       "      <td>0.0</td>\n",
       "      <td>0.0</td>\n",
       "      <td>0.0</td>\n",
       "    </tr>\n",
       "  </tbody>\n",
       "</table>\n",
       "<p>9388 rows × 11 columns</p>\n",
       "</div>"
      ],
      "text/plain": [
       "                    Type   Price       City  Total_Area  Price_per_SQFT  \\\n",
       "2                  Flat   100.00    Chennai        1320         7575.76   \n",
       "4                  Flat    48.00    Chennai         960         5000.00   \n",
       "5                  Flat    40.00    Chennai         940         4255.32   \n",
       "6                  Flat    60.00    Chennai         880         6818.18   \n",
       "7      Independent House   72.35    Chennai        1700         4255.88   \n",
       "...                  ...     ...        ...         ...             ...   \n",
       "14521              Flat     9.00  New Delhi         200         4500.00   \n",
       "14523              Flat    40.00  New Delhi        1053         3798.67   \n",
       "14524  Independent House   14.00  New Delhi         472         2966.10   \n",
       "14525              Flat    30.00  New Delhi         378         7936.51   \n",
       "14526              Flat    60.00  New Delhi         700         8571.43   \n",
       "\n",
       "       Baths  Balcony  BHK   BH   RK    R  \n",
       "2          3        0  3.0  0.0  0.0  0.0  \n",
       "4          3        1  2.0  0.0  0.0  0.0  \n",
       "5          3        0  2.0  0.0  0.0  0.0  \n",
       "6          3        1  2.0  0.0  0.0  0.0  \n",
       "7          3        1  3.0  0.0  0.0  0.0  \n",
       "...      ...      ...  ...  ...  ...  ...  \n",
       "14521      1        0  1.0  0.0  0.0  0.0  \n",
       "14523      3        1  2.0  0.0  0.0  0.0  \n",
       "14524      2        1  1.0  0.0  0.0  0.0  \n",
       "14525      1        1  1.0  0.0  0.0  0.0  \n",
       "14526      2        1  3.0  0.0  0.0  0.0  \n",
       "\n",
       "[9388 rows x 11 columns]"
      ]
     },
     "execution_count": 38,
     "metadata": {},
     "output_type": "execute_result"
    }
   ],
   "source": [
    "df6"
   ]
  },
  {
   "cell_type": "code",
   "execution_count": 39,
   "id": "ba68ab1c",
   "metadata": {},
   "outputs": [
    {
     "data": {
      "text/plain": [
       "array([0.57429296, 0.5813252 , 0.5422064 , 0.57557989, 0.55389395,\n",
       "       0.56738461, 0.53386262, 0.58673515, 0.5531767 , 0.57684258])"
      ]
     },
     "execution_count": 39,
     "metadata": {},
     "output_type": "execute_result"
    }
   ],
   "source": [
    "from sklearn.model_selection import ShuffleSplit # To create simillar random folds \n",
    "from sklearn.model_selection import cross_val_score\n",
    "c = ShuffleSplit(n_splits = 10 , test_size = 0.2 , random_state= 0)\n",
    "cross_val_score(LinearRegression(),x,y , cv = c)"
   ]
  },
  {
   "cell_type": "code",
   "execution_count": 40,
   "id": "99b871e4",
   "metadata": {},
   "outputs": [],
   "source": [
    "def pipeline(data):\n",
    "    l = ['Price', 'Total_Area', 'Price_per_SQFT', 'Baths',\n",
    "       'Balcony', 'BHK', 'BH', 'RK', 'R']\n",
    "    # Plotting\n",
    "    print(box_plot(data,l))\n",
    "\n",
    "    # % Checking\n",
    "    print(out_check(data,l))\n",
    "\n",
    "    # Removing\n",
    "    ln = ['Price_per_SQFT','Price','Total_Area','RK']\n",
    "    new_data = out_rem(data,li)\n",
    "    print(\"\\n Shape of data after removing Outliers \\n\",new_data.shape)\n",
    "\n",
    "    # Converting into numerical\n",
    "    d1 = pd.get_dummies(new_data['City'], drop_first = True )\n",
    "    d2 = pd.get_dummies(new_data['Type'], drop_first = True)\n",
    "    model_data = pd.concat([new_data.drop(['Type','City'],axis = 1),d1,d2],axis = 1)\n",
    "    model_data.drop('Price_per_SQFT',axis = 1,inplace= True)\n",
    "    x = model_data.drop('Price',axis = 1)\n",
    "    y = model_data['Price']\n",
    "\n",
    "    # Spliting\n",
    "    X_train,X_test,Y_train,Y_test = train_test_split(x,y, test_size = 0.2)\n",
    "\n",
    "    # Training\n",
    "    model.fit(X_train,Y_train)\n",
    "\n",
    "    # Score Checking\n",
    "    print(\"Test Score :\",model.score(X_test,Y_test),\"Train Score :\",model.score(X_train,Y_train))\n",
    "\n",
    "    # Cross Validating\n",
    "    from sklearn.model_selection import ShuffleSplit # To create simillar random folds \n",
    "    from sklearn.model_selection import cross_val_score\n",
    "    c = ShuffleSplit(n_splits = 10 , test_size = 0.2 , random_state= 0)\n",
    "    print(cross_val_score(LinearRegression(),x,y , cv = c))\n",
    "    \n",
    "    return find_best_model(x,y)\n",
    "    return new_data"
   ]
  },
  {
   "cell_type": "code",
   "execution_count": 41,
   "id": "2578044d",
   "metadata": {},
   "outputs": [
    {
     "data": {
      "application/javascript": [
       "\n",
       "        if (window._pyforest_update_imports_cell) { window._pyforest_update_imports_cell('import pandas as pd\\nimport seaborn as sns\\nimport matplotlib.pyplot as plt'); }\n",
       "    "
      ],
      "text/plain": [
       "<IPython.core.display.Javascript object>"
      ]
     },
     "metadata": {},
     "output_type": "display_data"
    },
    {
     "data": {
      "application/javascript": [
       "\n",
       "        if (window._pyforest_update_imports_cell) { window._pyforest_update_imports_cell('import pandas as pd\\nimport seaborn as sns\\nimport matplotlib.pyplot as plt'); }\n",
       "    "
      ],
      "text/plain": [
       "<IPython.core.display.Javascript object>"
      ]
     },
     "metadata": {},
     "output_type": "display_data"
    },
    {
     "data": {
      "application/javascript": [
       "\n",
       "        if (window._pyforest_update_imports_cell) { window._pyforest_update_imports_cell('import pandas as pd\\nimport seaborn as sns\\nimport matplotlib.pyplot as plt'); }\n",
       "    "
      ],
      "text/plain": [
       "<IPython.core.display.Javascript object>"
      ]
     },
     "metadata": {},
     "output_type": "display_data"
    },
    {
     "data": {
      "application/javascript": [
       "\n",
       "        if (window._pyforest_update_imports_cell) { window._pyforest_update_imports_cell('import pandas as pd\\nimport seaborn as sns\\nimport matplotlib.pyplot as plt'); }\n",
       "    "
      ],
      "text/plain": [
       "<IPython.core.display.Javascript object>"
      ]
     },
     "metadata": {},
     "output_type": "display_data"
    },
    {
     "data": {
      "application/javascript": [
       "\n",
       "        if (window._pyforest_update_imports_cell) { window._pyforest_update_imports_cell('import pandas as pd\\nimport seaborn as sns\\nimport matplotlib.pyplot as plt'); }\n",
       "    "
      ],
      "text/plain": [
       "<IPython.core.display.Javascript object>"
      ]
     },
     "metadata": {},
     "output_type": "display_data"
    },
    {
     "data": {
      "application/javascript": [
       "\n",
       "        if (window._pyforest_update_imports_cell) { window._pyforest_update_imports_cell('import pandas as pd\\nimport seaborn as sns\\nimport matplotlib.pyplot as plt'); }\n",
       "    "
      ],
      "text/plain": [
       "<IPython.core.display.Javascript object>"
      ]
     },
     "metadata": {},
     "output_type": "display_data"
    },
    {
     "data": {
      "application/javascript": [
       "\n",
       "        if (window._pyforest_update_imports_cell) { window._pyforest_update_imports_cell('import pandas as pd\\nimport seaborn as sns\\nimport matplotlib.pyplot as plt'); }\n",
       "    "
      ],
      "text/plain": [
       "<IPython.core.display.Javascript object>"
      ]
     },
     "metadata": {},
     "output_type": "display_data"
    },
    {
     "data": {
      "application/javascript": [
       "\n",
       "        if (window._pyforest_update_imports_cell) { window._pyforest_update_imports_cell('import pandas as pd\\nimport seaborn as sns\\nimport matplotlib.pyplot as plt'); }\n",
       "    "
      ],
      "text/plain": [
       "<IPython.core.display.Javascript object>"
      ]
     },
     "metadata": {},
     "output_type": "display_data"
    },
    {
     "data": {
      "application/javascript": [
       "\n",
       "        if (window._pyforest_update_imports_cell) { window._pyforest_update_imports_cell('import pandas as pd\\nimport seaborn as sns\\nimport matplotlib.pyplot as plt'); }\n",
       "    "
      ],
      "text/plain": [
       "<IPython.core.display.Javascript object>"
      ]
     },
     "metadata": {},
     "output_type": "display_data"
    },
    {
     "data": {
      "application/javascript": [
       "\n",
       "        if (window._pyforest_update_imports_cell) { window._pyforest_update_imports_cell('import pandas as pd\\nimport seaborn as sns\\nimport matplotlib.pyplot as plt'); }\n",
       "    "
      ],
      "text/plain": [
       "<IPython.core.display.Javascript object>"
      ]
     },
     "metadata": {},
     "output_type": "display_data"
    },
    {
     "data": {
      "application/javascript": [
       "\n",
       "        if (window._pyforest_update_imports_cell) { window._pyforest_update_imports_cell('import pandas as pd\\nimport seaborn as sns\\nimport matplotlib.pyplot as plt'); }\n",
       "    "
      ],
      "text/plain": [
       "<IPython.core.display.Javascript object>"
      ]
     },
     "metadata": {},
     "output_type": "display_data"
    },
    {
     "data": {
      "application/javascript": [
       "\n",
       "        if (window._pyforest_update_imports_cell) { window._pyforest_update_imports_cell('import pandas as pd\\nimport seaborn as sns\\nimport matplotlib.pyplot as plt'); }\n",
       "    "
      ],
      "text/plain": [
       "<IPython.core.display.Javascript object>"
      ]
     },
     "metadata": {},
     "output_type": "display_data"
    },
    {
     "data": {
      "application/javascript": [
       "\n",
       "        if (window._pyforest_update_imports_cell) { window._pyforest_update_imports_cell('import pandas as pd\\nimport seaborn as sns\\nimport matplotlib.pyplot as plt'); }\n",
       "    "
      ],
      "text/plain": [
       "<IPython.core.display.Javascript object>"
      ]
     },
     "metadata": {},
     "output_type": "display_data"
    },
    {
     "data": {
      "application/javascript": [
       "\n",
       "        if (window._pyforest_update_imports_cell) { window._pyforest_update_imports_cell('import pandas as pd\\nimport seaborn as sns\\nimport matplotlib.pyplot as plt'); }\n",
       "    "
      ],
      "text/plain": [
       "<IPython.core.display.Javascript object>"
      ]
     },
     "metadata": {},
     "output_type": "display_data"
    },
    {
     "data": {
      "application/javascript": [
       "\n",
       "        if (window._pyforest_update_imports_cell) { window._pyforest_update_imports_cell('import pandas as pd\\nimport seaborn as sns\\nimport matplotlib.pyplot as plt'); }\n",
       "    "
      ],
      "text/plain": [
       "<IPython.core.display.Javascript object>"
      ]
     },
     "metadata": {},
     "output_type": "display_data"
    },
    {
     "data": {
      "application/javascript": [
       "\n",
       "        if (window._pyforest_update_imports_cell) { window._pyforest_update_imports_cell('import pandas as pd\\nimport seaborn as sns\\nimport matplotlib.pyplot as plt'); }\n",
       "    "
      ],
      "text/plain": [
       "<IPython.core.display.Javascript object>"
      ]
     },
     "metadata": {},
     "output_type": "display_data"
    },
    {
     "data": {
      "application/javascript": [
       "\n",
       "        if (window._pyforest_update_imports_cell) { window._pyforest_update_imports_cell('import pandas as pd\\nimport seaborn as sns\\nimport matplotlib.pyplot as plt'); }\n",
       "    "
      ],
      "text/plain": [
       "<IPython.core.display.Javascript object>"
      ]
     },
     "metadata": {},
     "output_type": "display_data"
    },
    {
     "data": {
      "application/javascript": [
       "\n",
       "        if (window._pyforest_update_imports_cell) { window._pyforest_update_imports_cell('import pandas as pd\\nimport seaborn as sns\\nimport matplotlib.pyplot as plt'); }\n",
       "    "
      ],
      "text/plain": [
       "<IPython.core.display.Javascript object>"
      ]
     },
     "metadata": {},
     "output_type": "display_data"
    },
    {
     "data": {
      "application/javascript": [
       "\n",
       "        if (window._pyforest_update_imports_cell) { window._pyforest_update_imports_cell('import pandas as pd\\nimport seaborn as sns\\nimport matplotlib.pyplot as plt'); }\n",
       "    "
      ],
      "text/plain": [
       "<IPython.core.display.Javascript object>"
      ]
     },
     "metadata": {},
     "output_type": "display_data"
    },
    {
     "data": {
      "text/plain": [
       "Price             0.681721\n",
       "Total_Area        0.053259\n",
       "Price_per_SQFT    1.235620\n",
       "Baths             0.703025\n",
       "Balcony           0.000000\n",
       "BHK               0.000000\n",
       "BH                0.042608\n",
       "RK                5.443119\n",
       "R                 0.042608\n",
       "dtype: float64"
      ]
     },
     "execution_count": 41,
     "metadata": {},
     "output_type": "execute_result"
    },
    {
     "data": {
      "image/png": "[encoded data removed]",
      "text/plain": [
       "<Figure size 2500x1500 with 9 Axes>"
      ]
     },
     "metadata": {},
     "output_type": "display_data"
    }
   ],
   "source": [
    "l = ['Price', 'Total_Area', 'Price_per_SQFT', 'Baths',\n",
    "       'Balcony', 'BHK', 'BH', 'RK', 'R']\n",
    "# Plotting\n",
    "box_plot(df6,l)\n",
    "\n",
    "out_check(df6,l)"
   ]
  },
  {
   "cell_type": "code",
   "execution_count": 42,
   "id": "76297081",
   "metadata": {},
   "outputs": [
    {
     "name": "stdout",
     "output_type": "stream",
     "text": [
      "Q1 = 4166.67 | Q3 = 6708.7275 | IQR =  2542.0575\n",
      "Upper fence = 10521.81375\n",
      "Lower fence = 353.58375000000024\n",
      "Nos of Records Deleted = 116\n",
      "% of Records Deleted = 1.24 \n",
      "\n",
      "Q1 = 30.0 | Q3 = 66.0 | IQR =  36.0\n",
      "Upper fence = 120.0\n",
      "Lower fence = -24.0\n",
      "Nos of Records Deleted = 137\n",
      "% of Records Deleted = 1.48 \n",
      "\n",
      "Q1 = 620.0 | Q3 = 1146.0 | IQR =  526.0\n",
      "Upper fence = 1935.0\n",
      "Lower fence = -169.0\n",
      "Nos of Records Deleted = 4\n",
      "% of Records Deleted = 0.04 \n",
      "\n",
      "Q1 = 1.0 | Q3 = 2.0 | IQR =  1.0\n",
      "Upper fence = 3.5\n",
      "Lower fence = -0.5\n",
      "Nos of Records Deleted = 0\n",
      "% of Records Deleted = 0.0 \n",
      "\n",
      "\n",
      "Shape of data after removing Outliers \n",
      " (9388, 11) (9131, 11)\n"
     ]
    }
   ],
   "source": [
    "ln = ['Price_per_SQFT','Price','Total_Area','RK']\n",
    "df8 = out_rem(df6,li)\n",
    "print(\"\\nShape of data after removing Outliers \\n\",df6.shape,df8.shape)"
   ]
  },
  {
   "cell_type": "code",
   "execution_count": 43,
   "id": "1a69b85d",
   "metadata": {},
   "outputs": [
    {
     "data": {
      "application/javascript": [
       "\n",
       "        if (window._pyforest_update_imports_cell) { window._pyforest_update_imports_cell('import pandas as pd\\nimport seaborn as sns\\nimport matplotlib.pyplot as plt'); }\n",
       "    "
      ],
      "text/plain": [
       "<IPython.core.display.Javascript object>"
      ]
     },
     "metadata": {},
     "output_type": "display_data"
    },
    {
     "data": {
      "application/javascript": [
       "\n",
       "        if (window._pyforest_update_imports_cell) { window._pyforest_update_imports_cell('import pandas as pd\\nimport seaborn as sns\\nimport matplotlib.pyplot as plt'); }\n",
       "    "
      ],
      "text/plain": [
       "<IPython.core.display.Javascript object>"
      ]
     },
     "metadata": {},
     "output_type": "display_data"
    },
    {
     "data": {
      "application/javascript": [
       "\n",
       "        if (window._pyforest_update_imports_cell) { window._pyforest_update_imports_cell('import pandas as pd\\nimport seaborn as sns\\nimport matplotlib.pyplot as plt'); }\n",
       "    "
      ],
      "text/plain": [
       "<IPython.core.display.Javascript object>"
      ]
     },
     "metadata": {},
     "output_type": "display_data"
    },
    {
     "data": {
      "application/javascript": [
       "\n",
       "        if (window._pyforest_update_imports_cell) { window._pyforest_update_imports_cell('import pandas as pd\\nimport seaborn as sns\\nimport matplotlib.pyplot as plt'); }\n",
       "    "
      ],
      "text/plain": [
       "<IPython.core.display.Javascript object>"
      ]
     },
     "metadata": {},
     "output_type": "display_data"
    },
    {
     "data": {
      "application/javascript": [
       "\n",
       "        if (window._pyforest_update_imports_cell) { window._pyforest_update_imports_cell('import pandas as pd\\nimport seaborn as sns\\nimport matplotlib.pyplot as plt'); }\n",
       "    "
      ],
      "text/plain": [
       "<IPython.core.display.Javascript object>"
      ]
     },
     "metadata": {},
     "output_type": "display_data"
    },
    {
     "data": {
      "application/javascript": [
       "\n",
       "        if (window._pyforest_update_imports_cell) { window._pyforest_update_imports_cell('import pandas as pd\\nimport seaborn as sns\\nimport matplotlib.pyplot as plt'); }\n",
       "    "
      ],
      "text/plain": [
       "<IPython.core.display.Javascript object>"
      ]
     },
     "metadata": {},
     "output_type": "display_data"
    },
    {
     "data": {
      "application/javascript": [
       "\n",
       "        if (window._pyforest_update_imports_cell) { window._pyforest_update_imports_cell('import pandas as pd\\nimport seaborn as sns\\nimport matplotlib.pyplot as plt'); }\n",
       "    "
      ],
      "text/plain": [
       "<IPython.core.display.Javascript object>"
      ]
     },
     "metadata": {},
     "output_type": "display_data"
    },
    {
     "data": {
      "application/javascript": [
       "\n",
       "        if (window._pyforest_update_imports_cell) { window._pyforest_update_imports_cell('import pandas as pd\\nimport seaborn as sns\\nimport matplotlib.pyplot as plt'); }\n",
       "    "
      ],
      "text/plain": [
       "<IPython.core.display.Javascript object>"
      ]
     },
     "metadata": {},
     "output_type": "display_data"
    },
    {
     "data": {
      "application/javascript": [
       "\n",
       "        if (window._pyforest_update_imports_cell) { window._pyforest_update_imports_cell('import pandas as pd\\nimport seaborn as sns\\nimport matplotlib.pyplot as plt'); }\n",
       "    "
      ],
      "text/plain": [
       "<IPython.core.display.Javascript object>"
      ]
     },
     "metadata": {},
     "output_type": "display_data"
    },
    {
     "data": {
      "application/javascript": [
       "\n",
       "        if (window._pyforest_update_imports_cell) { window._pyforest_update_imports_cell('import pandas as pd\\nimport seaborn as sns\\nimport matplotlib.pyplot as plt'); }\n",
       "    "
      ],
      "text/plain": [
       "<IPython.core.display.Javascript object>"
      ]
     },
     "metadata": {},
     "output_type": "display_data"
    },
    {
     "data": {
      "application/javascript": [
       "\n",
       "        if (window._pyforest_update_imports_cell) { window._pyforest_update_imports_cell('import pandas as pd\\nimport seaborn as sns\\nimport matplotlib.pyplot as plt'); }\n",
       "    "
      ],
      "text/plain": [
       "<IPython.core.display.Javascript object>"
      ]
     },
     "metadata": {},
     "output_type": "display_data"
    },
    {
     "data": {
      "application/javascript": [
       "\n",
       "        if (window._pyforest_update_imports_cell) { window._pyforest_update_imports_cell('import pandas as pd\\nimport seaborn as sns\\nimport matplotlib.pyplot as plt'); }\n",
       "    "
      ],
      "text/plain": [
       "<IPython.core.display.Javascript object>"
      ]
     },
     "metadata": {},
     "output_type": "display_data"
    },
    {
     "data": {
      "application/javascript": [
       "\n",
       "        if (window._pyforest_update_imports_cell) { window._pyforest_update_imports_cell('import pandas as pd\\nimport seaborn as sns\\nimport matplotlib.pyplot as plt'); }\n",
       "    "
      ],
      "text/plain": [
       "<IPython.core.display.Javascript object>"
      ]
     },
     "metadata": {},
     "output_type": "display_data"
    },
    {
     "data": {
      "application/javascript": [
       "\n",
       "        if (window._pyforest_update_imports_cell) { window._pyforest_update_imports_cell('import pandas as pd\\nimport seaborn as sns\\nimport matplotlib.pyplot as plt'); }\n",
       "    "
      ],
      "text/plain": [
       "<IPython.core.display.Javascript object>"
      ]
     },
     "metadata": {},
     "output_type": "display_data"
    },
    {
     "data": {
      "application/javascript": [
       "\n",
       "        if (window._pyforest_update_imports_cell) { window._pyforest_update_imports_cell('import pandas as pd\\nimport seaborn as sns\\nimport matplotlib.pyplot as plt'); }\n",
       "    "
      ],
      "text/plain": [
       "<IPython.core.display.Javascript object>"
      ]
     },
     "metadata": {},
     "output_type": "display_data"
    },
    {
     "data": {
      "application/javascript": [
       "\n",
       "        if (window._pyforest_update_imports_cell) { window._pyforest_update_imports_cell('import pandas as pd\\nimport seaborn as sns\\nimport matplotlib.pyplot as plt'); }\n",
       "    "
      ],
      "text/plain": [
       "<IPython.core.display.Javascript object>"
      ]
     },
     "metadata": {},
     "output_type": "display_data"
    },
    {
     "data": {
      "application/javascript": [
       "\n",
       "        if (window._pyforest_update_imports_cell) { window._pyforest_update_imports_cell('import pandas as pd\\nimport seaborn as sns\\nimport matplotlib.pyplot as plt'); }\n",
       "    "
      ],
      "text/plain": [
       "<IPython.core.display.Javascript object>"
      ]
     },
     "metadata": {},
     "output_type": "display_data"
    },
    {
     "data": {
      "application/javascript": [
       "\n",
       "        if (window._pyforest_update_imports_cell) { window._pyforest_update_imports_cell('import pandas as pd\\nimport seaborn as sns\\nimport matplotlib.pyplot as plt'); }\n",
       "    "
      ],
      "text/plain": [
       "<IPython.core.display.Javascript object>"
      ]
     },
     "metadata": {},
     "output_type": "display_data"
    },
    {
     "data": {
      "application/javascript": [
       "\n",
       "        if (window._pyforest_update_imports_cell) { window._pyforest_update_imports_cell('import pandas as pd\\nimport seaborn as sns\\nimport matplotlib.pyplot as plt'); }\n",
       "    "
      ],
      "text/plain": [
       "<IPython.core.display.Javascript object>"
      ]
     },
     "metadata": {},
     "output_type": "display_data"
    },
    {
     "data": {
      "text/plain": [
       "Price             0.032855\n",
       "Total_Area        0.000000\n",
       "Price_per_SQFT    0.514730\n",
       "Baths             0.700909\n",
       "Balcony           0.000000\n",
       "BHK               0.000000\n",
       "BH                0.043807\n",
       "RK                5.508707\n",
       "R                 0.032855\n",
       "dtype: float64"
      ]
     },
     "execution_count": 43,
     "metadata": {},
     "output_type": "execute_result"
    },
    {
     "data": {
      "image/png": "[encoded data removed]",
      "text/plain": [
       "<Figure size 2500x1500 with 9 Axes>"
      ]
     },
     "metadata": {},
     "output_type": "display_data"
    }
   ],
   "source": [
    "# Plotting\n",
    "box_plot(df8,l)\n",
    "\n",
    "# % Checking\n",
    "out_check(df8,l)"
   ]
  },
  {
   "cell_type": "code",
   "execution_count": 44,
   "id": "324950d8",
   "metadata": {},
   "outputs": [
    {
     "data": {
      "application/javascript": [
       "\n",
       "        if (window._pyforest_update_imports_cell) { window._pyforest_update_imports_cell('import pandas as pd\\nimport seaborn as sns\\nimport matplotlib.pyplot as plt'); }\n",
       "    "
      ],
      "text/plain": [
       "<IPython.core.display.Javascript object>"
      ]
     },
     "metadata": {},
     "output_type": "display_data"
    },
    {
     "data": {
      "application/javascript": [
       "\n",
       "        if (window._pyforest_update_imports_cell) { window._pyforest_update_imports_cell('import pandas as pd\\nimport seaborn as sns\\nimport matplotlib.pyplot as plt'); }\n",
       "    "
      ],
      "text/plain": [
       "<IPython.core.display.Javascript object>"
      ]
     },
     "metadata": {},
     "output_type": "display_data"
    },
    {
     "data": {
      "application/javascript": [
       "\n",
       "        if (window._pyforest_update_imports_cell) { window._pyforest_update_imports_cell('import pandas as pd\\nimport seaborn as sns\\nimport matplotlib.pyplot as plt'); }\n",
       "    "
      ],
      "text/plain": [
       "<IPython.core.display.Javascript object>"
      ]
     },
     "metadata": {},
     "output_type": "display_data"
    }
   ],
   "source": [
    "# Converting into numerical\n",
    "d1 = pd.get_dummies(df8['City'], drop_first = True )\n",
    "d2 = pd.get_dummies(df8['Type'], drop_first = True)\n",
    "df9 = pd.concat([df8.drop(['Type','City'],axis = 1),d1,d2],axis = 1)\n",
    "df9.drop('Price_per_SQFT',axis = 1,inplace= True)\n",
    "x = df9.drop('Price',axis = 1)\n",
    "y = df9['Price']"
   ]
  },
  {
   "cell_type": "code",
   "execution_count": 45,
   "id": "72f93a26",
   "metadata": {},
   "outputs": [
    {
     "name": "stdout",
     "output_type": "stream",
     "text": [
      "Test Score : 0.5374831154662654 Train Score : 0.583389741588877\n"
     ]
    }
   ],
   "source": [
    "# Spliting\n",
    "X_train,X_test,Y_train,Y_test = train_test_split(x,y, test_size = 0.2)\n",
    "\n",
    "# Training\n",
    "model.fit(X_train,Y_train)\n",
    "\n",
    "# Score Checking\n",
    "print(\"Test Score :\",model.score(X_test,Y_test),\"Train Score :\",model.score(X_train,Y_train))"
   ]
  },
  {
   "cell_type": "code",
   "execution_count": 46,
   "id": "716118b2",
   "metadata": {},
   "outputs": [
    {
     "name": "stdout",
     "output_type": "stream",
     "text": [
      "[0.58309087 0.58640079 0.58538799 0.5623998  0.56951766 0.58381633\n",
      " 0.56166765 0.55650915 0.53392853 0.5653803 ]\n"
     ]
    }
   ],
   "source": [
    "# Cross Validating\n",
    "from sklearn.model_selection import ShuffleSplit # To create simillar random folds \n",
    "from sklearn.model_selection import cross_val_score\n",
    "c = ShuffleSplit(n_splits = 10 , test_size = 0.2 , random_state= 0)\n",
    "print(cross_val_score(LinearRegression(),x,y , cv = c))"
   ]
  },
  {
   "cell_type": "code",
   "execution_count": 47,
   "id": "cdeb007e",
   "metadata": {},
   "outputs": [
    {
     "data": {
      "application/javascript": [
       "\n",
       "        if (window._pyforest_update_imports_cell) { window._pyforest_update_imports_cell('import pandas as pd\\nimport seaborn as sns\\nimport matplotlib.pyplot as plt'); }\n",
       "    "
      ],
      "text/plain": [
       "<IPython.core.display.Javascript object>"
      ]
     },
     "metadata": {},
     "output_type": "display_data"
    },
    {
     "data": {
      "text/html": [
       "<div>\n",
       "<style scoped>\n",
       "    .dataframe tbody tr th:only-of-type {\n",
       "        vertical-align: middle;\n",
       "    }\n",
       "\n",
       "    .dataframe tbody tr th {\n",
       "        vertical-align: top;\n",
       "    }\n",
       "\n",
       "    .dataframe thead th {\n",
       "        text-align: right;\n",
       "    }\n",
       "</style>\n",
       "<table border=\"1\" class=\"dataframe\">\n",
       "  <thead>\n",
       "    <tr style=\"text-align: right;\">\n",
       "      <th></th>\n",
       "      <th>model</th>\n",
       "      <th>best_score</th>\n",
       "      <th>best_paramaters</th>\n",
       "    </tr>\n",
       "  </thead>\n",
       "  <tbody>\n",
       "    <tr>\n",
       "      <th>0</th>\n",
       "      <td>LinearRegression</td>\n",
       "      <td>0.578436</td>\n",
       "      <td>{}</td>\n",
       "    </tr>\n",
       "    <tr>\n",
       "      <th>1</th>\n",
       "      <td>Lasso</td>\n",
       "      <td>0.550185</td>\n",
       "      <td>{'alpha': 5, 'selection': 'random'}</td>\n",
       "    </tr>\n",
       "    <tr>\n",
       "      <th>2</th>\n",
       "      <td>RandomForestRegressor</td>\n",
       "      <td>0.533424</td>\n",
       "      <td>{'criterion': 'friedman_mse'}</td>\n",
       "    </tr>\n",
       "  </tbody>\n",
       "</table>\n",
       "</div>"
      ],
      "text/plain": [
       "                   model  best_score                      best_paramaters\n",
       "0       LinearRegression    0.578436                                   {}\n",
       "1                  Lasso    0.550185  {'alpha': 5, 'selection': 'random'}\n",
       "2  RandomForestRegressor    0.533424        {'criterion': 'friedman_mse'}"
      ]
     },
     "execution_count": 47,
     "metadata": {},
     "output_type": "execute_result"
    }
   ],
   "source": [
    "find_best_model(x,y)"
   ]
  },
  {
   "cell_type": "markdown",
   "id": "cf65311a",
   "metadata": {},
   "source": [
    "# Giving average score of 57%\n",
    "**So we will consider df7 as our dataset**\n",
    "# Again"
   ]
  },
  {
   "cell_type": "markdown",
   "id": "3311fc06",
   "metadata": {},
   "source": [
    "l = ['Price', 'Total_Area', 'Price_per_SQFT', 'Baths',\n",
    "       'Balcony', 'BHK', 'BH', 'RK', 'R']\n",
    "# Plotting\n",
    "print(box_plot(df8,l))\n",
    "\n",
    "# % Checking\n",
    "print(out_check(df8,l))\n",
    "\n",
    "# Removing\n",
    "ln = ['Price_per_SQFT','Price','Total_Area','RK']\n",
    "df10 = out_rem(df8,li)\n",
    "print(\"\\nShape of data after removing Outliers \\n\",df10.shape)\n",
    "\n",
    "# Plotting\n",
    "print(\"After Removing Outliers\",box_plot(df10,l))\n",
    "print(\"After Removing Outliers\",out_check(df10,l))\n",
    "\n",
    "# Converting into numerical\n",
    "d1 = pd.get_dummies(df10['City'], drop_first = True )\n",
    "d2 = pd.get_dummies(df10['Type'], drop_first = True)\n",
    "df11 = pd.concat([df10.drop(['Type','City'],axis = 1),d1,d2],axis = 1)\n",
    "df11.drop('Price_per_SQFT',axis = 1,inplace= True)\n",
    "x = df11.drop('Price',axis = 1)\n",
    "y = df11['Price']\n",
    "\n",
    "# Spliting\n",
    "X_train,X_test,Y_train,Y_test = train_test_split(x,y, test_size = 0.2)\n",
    "\n",
    "# Training\n",
    "model.fit(X_train,Y_train)\n",
    "\n",
    "# Score Checking\n",
    "print(\"Test Score :\",model.score(X_test,Y_test),\"Train Score :\",model.score(X_train,Y_train),\"\\n\")\n",
    "\n",
    "# Cross Validating\n",
    "from sklearn.model_selection import ShuffleSplit # To create simillar random folds \n",
    "from sklearn.model_selection import cross_val_score\n",
    "c = ShuffleSplit(n_splits = 10 , test_size = 0.2 , random_state= 0)\n",
    "print(cross_val_score(LinearRegression(),x,y , cv = c))\n",
    "    \n"
   ]
  },
  {
   "cell_type": "markdown",
   "id": "67e07910",
   "metadata": {},
   "source": [
    "df66 = df6.drop(df6[df6['RK']!=0].index , axis = 0)\n",
    "df66.drop(df6[df6['BH']!=0].index , axis = 0, inplace = True)\n",
    "df66.drop(df6[df6['R']!=0].index , axis = 0, inplace = True)\n",
    "df66.drop(['R'], axis = 1, inplace = True)\n",
    "df66.drop(['BH'], axis = 1, inplace = True)\n",
    "df66.drop(['RK'], axis = 1, inplace = True)"
   ]
  },
  {
   "cell_type": "markdown",
   "id": "f934aea7",
   "metadata": {},
   "source": [
    "df6.shape[0] - df66.shape[0]"
   ]
  },
  {
   "cell_type": "markdown",
   "id": "1e595818",
   "metadata": {},
   "source": [
    "# Building Function for Price Prediction"
   ]
  },
  {
   "cell_type": "code",
   "execution_count": 89,
   "id": "53e6362a",
   "metadata": {},
   "outputs": [
    {
     "data": {
      "application/javascript": [
       "\n",
       "        if (window._pyforest_update_imports_cell) { window._pyforest_update_imports_cell('import numpy as np\\nimport pandas as pd\\nimport seaborn as sns\\nimport matplotlib.pyplot as plt'); }\n",
       "    "
      ],
      "text/plain": [
       "<IPython.core.display.Javascript object>"
      ]
     },
     "metadata": {},
     "output_type": "display_data"
    },
    {
     "data": {
      "application/javascript": [
       "\n",
       "        if (window._pyforest_update_imports_cell) { window._pyforest_update_imports_cell('import numpy as np\\nimport pandas as pd\\nimport seaborn as sns\\nimport matplotlib.pyplot as plt'); }\n",
       "    "
      ],
      "text/plain": [
       "<IPython.core.display.Javascript object>"
      ]
     },
     "metadata": {},
     "output_type": "display_data"
    },
    {
     "data": {
      "application/javascript": [
       "\n",
       "        if (window._pyforest_update_imports_cell) { window._pyforest_update_imports_cell('import numpy as np\\nimport pandas as pd\\nimport seaborn as sns\\nimport matplotlib.pyplot as plt'); }\n",
       "    "
      ],
      "text/plain": [
       "<IPython.core.display.Javascript object>"
      ]
     },
     "metadata": {},
     "output_type": "display_data"
    },
    {
     "data": {
      "text/plain": [
       "(0.6057794578085884, 0.5590741982720238)"
      ]
     },
     "execution_count": 89,
     "metadata": {},
     "output_type": "execute_result"
    }
   ],
   "source": [
    "d1 = pd.get_dummies(df6['City'] , drop_first = True)\n",
    "d2 = pd.get_dummies(df6['Type'], drop_first = True)\n",
    "df7 = pd.concat([df6.drop(['Type','City'],axis = 1),d1,d2],axis = 1)\n",
    "df7.drop('Price_per_SQFT',axis = 1,inplace= True)\n",
    "x = df7.drop('Price',axis = 1)\n",
    "y = df7['Price']\n",
    "\n",
    "x.rename(columns = {'Flat ':'Flat'},inplace = True)\n",
    "\n",
    "X_train,X_test,Y_train,Y_test = train_test_split(x,y, test_size = 0.2)\n",
    "\n",
    "model.fit(X_train,Y_train)\n",
    "\n",
    "model.score(X_test,Y_test),model.score(X_train,Y_train)"
   ]
  },
  {
   "cell_type": "code",
   "execution_count": 49,
   "id": "63955e65",
   "metadata": {},
   "outputs": [
    {
     "name": "stdout",
     "output_type": "stream",
     "text": [
      "[0.57429296 0.5813252  0.5422064  0.57557989 0.55389395 0.56738461]\n"
     ]
    }
   ],
   "source": [
    "print(cross_val_score(LinearRegression(),x,y , cv = ShuffleSplit(n_splits = 6 , test_size = 0.2 , random_state= 0) ))"
   ]
  },
  {
   "cell_type": "code",
   "execution_count": 50,
   "id": "9c5bcce7",
   "metadata": {},
   "outputs": [
    {
     "data": {
      "text/html": [
       "<div>\n",
       "<style scoped>\n",
       "    .dataframe tbody tr th:only-of-type {\n",
       "        vertical-align: middle;\n",
       "    }\n",
       "\n",
       "    .dataframe tbody tr th {\n",
       "        vertical-align: top;\n",
       "    }\n",
       "\n",
       "    .dataframe thead th {\n",
       "        text-align: right;\n",
       "    }\n",
       "</style>\n",
       "<table border=\"1\" class=\"dataframe\">\n",
       "  <thead>\n",
       "    <tr style=\"text-align: right;\">\n",
       "      <th></th>\n",
       "      <th>Price</th>\n",
       "      <th>Total_Area</th>\n",
       "      <th>Baths</th>\n",
       "      <th>Balcony</th>\n",
       "      <th>BHK</th>\n",
       "      <th>BH</th>\n",
       "      <th>RK</th>\n",
       "      <th>R</th>\n",
       "      <th>Chennai</th>\n",
       "      <th>Hyderabad</th>\n",
       "      <th>Kolkata</th>\n",
       "      <th>Mumbai</th>\n",
       "      <th>New Delhi</th>\n",
       "      <th>Pune</th>\n",
       "      <th>Independent House</th>\n",
       "      <th>Studio Flat</th>\n",
       "      <th>Studio Independent</th>\n",
       "      <th>Villa</th>\n",
       "    </tr>\n",
       "  </thead>\n",
       "  <tbody>\n",
       "    <tr>\n",
       "      <th>2</th>\n",
       "      <td>100.0</td>\n",
       "      <td>1320</td>\n",
       "      <td>3</td>\n",
       "      <td>0</td>\n",
       "      <td>3.0</td>\n",
       "      <td>0.0</td>\n",
       "      <td>0.0</td>\n",
       "      <td>0.0</td>\n",
       "      <td>1</td>\n",
       "      <td>0</td>\n",
       "      <td>0</td>\n",
       "      <td>0</td>\n",
       "      <td>0</td>\n",
       "      <td>0</td>\n",
       "      <td>0</td>\n",
       "      <td>0</td>\n",
       "      <td>0</td>\n",
       "      <td>0</td>\n",
       "    </tr>\n",
       "    <tr>\n",
       "      <th>4</th>\n",
       "      <td>48.0</td>\n",
       "      <td>960</td>\n",
       "      <td>3</td>\n",
       "      <td>1</td>\n",
       "      <td>2.0</td>\n",
       "      <td>0.0</td>\n",
       "      <td>0.0</td>\n",
       "      <td>0.0</td>\n",
       "      <td>1</td>\n",
       "      <td>0</td>\n",
       "      <td>0</td>\n",
       "      <td>0</td>\n",
       "      <td>0</td>\n",
       "      <td>0</td>\n",
       "      <td>0</td>\n",
       "      <td>0</td>\n",
       "      <td>0</td>\n",
       "      <td>0</td>\n",
       "    </tr>\n",
       "    <tr>\n",
       "      <th>5</th>\n",
       "      <td>40.0</td>\n",
       "      <td>940</td>\n",
       "      <td>3</td>\n",
       "      <td>0</td>\n",
       "      <td>2.0</td>\n",
       "      <td>0.0</td>\n",
       "      <td>0.0</td>\n",
       "      <td>0.0</td>\n",
       "      <td>1</td>\n",
       "      <td>0</td>\n",
       "      <td>0</td>\n",
       "      <td>0</td>\n",
       "      <td>0</td>\n",
       "      <td>0</td>\n",
       "      <td>0</td>\n",
       "      <td>0</td>\n",
       "      <td>0</td>\n",
       "      <td>0</td>\n",
       "    </tr>\n",
       "  </tbody>\n",
       "</table>\n",
       "</div>"
      ],
      "text/plain": [
       "   Price  Total_Area  Baths  Balcony  BHK   BH   RK    R  Chennai  Hyderabad  \\\n",
       "2  100.0        1320      3        0  3.0  0.0  0.0  0.0        1          0   \n",
       "4   48.0         960      3        1  2.0  0.0  0.0  0.0        1          0   \n",
       "5   40.0         940      3        0  2.0  0.0  0.0  0.0        1          0   \n",
       "\n",
       "   Kolkata  Mumbai  New Delhi  Pune  Independent House  Studio Flat  \\\n",
       "2        0       0          0     0                  0            0   \n",
       "4        0       0          0     0                  0            0   \n",
       "5        0       0          0     0                  0            0   \n",
       "\n",
       "   Studio Independent  Villa   \n",
       "2                   0       0  \n",
       "4                   0       0  \n",
       "5                   0       0  "
      ]
     },
     "execution_count": 50,
     "metadata": {},
     "output_type": "execute_result"
    }
   ],
   "source": [
    "df7.head(3)"
   ]
  },
  {
   "cell_type": "code",
   "execution_count": 51,
   "id": "62215af7",
   "metadata": {},
   "outputs": [
    {
     "data": {
      "application/javascript": [
       "\n",
       "        if (window._pyforest_update_imports_cell) { window._pyforest_update_imports_cell('import numpy as np\\nimport pandas as pd\\nimport seaborn as sns\\nimport matplotlib.pyplot as plt'); }\n",
       "    "
      ],
      "text/plain": [
       "<IPython.core.display.Javascript object>"
      ]
     },
     "metadata": {},
     "output_type": "display_data"
    },
    {
     "data": {
      "text/plain": [
       "(17, 17)"
      ]
     },
     "execution_count": 51,
     "metadata": {},
     "output_type": "execute_result"
    }
   ],
   "source": [
    "l = np.zeros(len(x.columns))\n",
    "len(l),x.shape[1]"
   ]
  },
  {
   "cell_type": "code",
   "execution_count": 52,
   "id": "759c78d5",
   "metadata": {},
   "outputs": [
    {
     "data": {
      "text/plain": [
       "Index(['Total_Area', 'Baths', 'Balcony', 'BHK', 'BH', 'RK', 'R', 'Chennai',\n",
       "       'Hyderabad', 'Kolkata', 'Mumbai', 'New Delhi', 'Pune',\n",
       "       'Independent House', 'Studio Flat', 'Studio Independent', 'Villa '],\n",
       "      dtype='object')"
      ]
     },
     "execution_count": 52,
     "metadata": {},
     "output_type": "execute_result"
    }
   ],
   "source": [
    "x.columns"
   ]
  },
  {
   "cell_type": "code",
   "execution_count": 90,
   "id": "2f60f95d",
   "metadata": {},
   "outputs": [],
   "source": [
    "def predict_price(Total_Area,Baths,Balcony,BHK,BH,RK,R,City,Type):\n",
    "    city_index = np.where(x.columns == City)[0][0] # This will return the index of entered City\n",
    "    type_index = np.where(x.columns == Type)[0][0] # This will return the index of entered Type\n",
    "    \n",
    "    l = np.zeros(len(x.columns))  # Making list of length = input column length\n",
    "    l[0] = Total_Area\n",
    "    l[1] = Baths\n",
    "    l[2] = Balcony\n",
    "    l[3] = BHK\n",
    "    l[4] = BH\n",
    "    l[5] = RK\n",
    "    l[6] = R\n",
    "    if city_index >= 0:\n",
    "        l[city_index] = 1\n",
    "    if type_index >= 0:\n",
    "        l[type_index] = 1\n",
    "    \n",
    "    return model.predict([l])[0]"
   ]
  },
  {
   "cell_type": "code",
   "execution_count": 96,
   "id": "5bacf8ae",
   "metadata": {},
   "outputs": [
    {
     "data": {
      "application/javascript": [
       "\n",
       "        if (window._pyforest_update_imports_cell) { window._pyforest_update_imports_cell('import numpy as np\\nimport pandas as pd\\nimport seaborn as sns\\nimport matplotlib.pyplot as plt'); }\n",
       "    "
      ],
      "text/plain": [
       "<IPython.core.display.Javascript object>"
      ]
     },
     "metadata": {},
     "output_type": "display_data"
    },
    {
     "data": {
      "application/javascript": [
       "\n",
       "        if (window._pyforest_update_imports_cell) { window._pyforest_update_imports_cell('import numpy as np\\nimport pandas as pd\\nimport seaborn as sns\\nimport matplotlib.pyplot as plt'); }\n",
       "    "
      ],
      "text/plain": [
       "<IPython.core.display.Javascript object>"
      ]
     },
     "metadata": {},
     "output_type": "display_data"
    },
    {
     "data": {
      "application/javascript": [
       "\n",
       "        if (window._pyforest_update_imports_cell) { window._pyforest_update_imports_cell('import numpy as np\\nimport pandas as pd\\nimport seaborn as sns\\nimport matplotlib.pyplot as plt'); }\n",
       "    "
      ],
      "text/plain": [
       "<IPython.core.display.Javascript object>"
      ]
     },
     "metadata": {},
     "output_type": "display_data"
    },
    {
     "data": {
      "text/plain": [
       "132.7346809078665"
      ]
     },
     "execution_count": 96,
     "metadata": {},
     "output_type": "execute_result"
    }
   ],
   "source": [
    "# predict_price(Total_Area,Baths,Balcony,BHK,BH,RK,R,City,Type)\n",
    "predict_price(2500,2,1,3,0,0,0,'Mumbai','Independent House')"
   ]
  },
  {
   "cell_type": "code",
   "execution_count": 92,
   "id": "5edf5e83",
   "metadata": {},
   "outputs": [
    {
     "data": {
      "text/plain": [
       "array([55.65966096, 27.39612098, 68.18050026, 28.53927517, 32.47698904,\n",
       "       34.29324204, 41.13143866, 47.75791836, 41.64836261, 79.90036874])"
      ]
     },
     "execution_count": 92,
     "metadata": {},
     "output_type": "execute_result"
    }
   ],
   "source": [
    "pr = model.predict(X_test)\n",
    "pr[:10]"
   ]
  },
  {
   "cell_type": "code",
   "execution_count": 93,
   "id": "6a7cb082",
   "metadata": {},
   "outputs": [
    {
     "data": {
      "text/plain": [
       "12610    26.0\n",
       "14380     3.8\n",
       "6055     30.0\n",
       "13847    20.0\n",
       "12698    50.0\n",
       "10301    20.0\n",
       "14335    38.5\n",
       "8733     35.0\n",
       "8621     30.0\n",
       "6192     95.0\n",
       "Name: Price, dtype: float64"
      ]
     },
     "execution_count": 93,
     "metadata": {},
     "output_type": "execute_result"
    }
   ],
   "source": [
    "Y_test.head(10)"
   ]
  },
  {
   "cell_type": "markdown",
   "id": "0da53e7d",
   "metadata": {},
   "source": [
    "# Saving Model to export for production "
   ]
  },
  {
   "cell_type": "code",
   "execution_count": 94,
   "id": "751a689c",
   "metadata": {},
   "outputs": [],
   "source": [
    "import pickle\n",
    "with open('Real_Estate_Price_Prediction.pickle','wb') as v: # wb --> storing in Bytes\n",
    "    pickle.dump(model,v)"
   ]
  },
  {
   "cell_type": "markdown",
   "id": "4c01fbd1",
   "metadata": {},
   "source": [
    "# ***This file will only stores the Coefficient and Intercept data of the model***\n",
    "**also we have to take the Column data according to its index**\n",
    "* **Hence, we will store the columns data into a JSON file**"
   ]
  },
  {
   "cell_type": "code",
   "execution_count": 95,
   "id": "4eb0f552",
   "metadata": {},
   "outputs": [],
   "source": [
    "import json\n",
    "columns = {'columns' :[i.lower() for i in x.columns]}\n",
    "with open('Real_Estate_Input_data_details.json','w') as f:\n",
    "    f.write(json.dumps(columns))"
   ]
  },
  {
   "cell_type": "code",
   "execution_count": null,
   "id": "7a24cf7c",
   "metadata": {},
   "outputs": [],
   "source": []
  }
 ],
 "metadata": {
  "kernelspec": {
   "display_name": "Python 3 (ipykernel)",
   "language": "python",
   "name": "python3"
  },
  "language_info": {
   "codemirror_mode": {
    "name": "ipython",
    "version": 3
   },
   "file_extension": ".py",
   "mimetype": "text/x-python",
   "name": "python",
   "nbconvert_exporter": "python",
   "pygments_lexer": "ipython3",
   "version": "3.10.9"
  }
 },
 "nbformat": 4,
 "nbformat_minor": 5
}
